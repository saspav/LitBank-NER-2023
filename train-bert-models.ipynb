{
 "cells": [
  {
   "cell_type": "code",
   "execution_count": 1,
   "id": "3bd0a727",
   "metadata": {
    "_cell_guid": "b1076dfc-b9ad-4769-8c92-a6c4dae69d19",
    "_uuid": "8f2839f25d086af736a60e9eeb907d3b93b6e0e5",
    "execution": {
     "iopub.execute_input": "2024-06-27T19:42:22.560812Z",
     "iopub.status.busy": "2024-06-27T19:42:22.560414Z",
     "iopub.status.idle": "2024-06-27T19:42:23.334381Z",
     "shell.execute_reply": "2024-06-27T19:42:23.333040Z"
    },
    "papermill": {
     "duration": 0.796377,
     "end_time": "2024-06-27T19:42:23.336502",
     "exception": false,
     "start_time": "2024-06-27T19:42:22.540125",
     "status": "completed"
    },
    "tags": []
   },
   "outputs": [
    {
     "name": "stdout",
     "output_type": "stream",
     "text": [
      "/kaggle/input/litbank-ner-2024/sample_submission.csv\n",
      "/kaggle/input/litbank-ner-2024/train_data_sent.csv\n",
      "/kaggle/input/litbank-ner-2024/test_data_no_labels_sent.csv\n"
     ]
    }
   ],
   "source": [
    "# This Python 3 environment comes with many helpful analytics libraries installed\n",
    "# It is defined by the kaggle/python Docker image: https://github.com/kaggle/docker-python\n",
    "# For example, here's several helpful packages to load\n",
    "\n",
    "import numpy as np # linear algebra\n",
    "import pandas as pd # data processing, CSV file I/O (e.g. pd.read_csv)\n",
    "\n",
    "# Input data files are available in the read-only \"../input/\" directory\n",
    "# For example, running this (by clicking run or pressing Shift+Enter) will list all files under the input directory\n",
    "\n",
    "import os\n",
    "for dirname, _, filenames in os.walk('/kaggle/input'):\n",
    "    for filename in filenames:\n",
    "        print(os.path.join(dirname, filename))\n",
    "\n",
    "# You can write up to 20GB to the current directory (/kaggle/working/) that gets preserved as output when you create a version using \"Save & Run All\" \n",
    "# You can also write temporary files to /kaggle/temp/, but they won't be saved outside of the current session"
   ]
  },
  {
   "cell_type": "code",
   "execution_count": 2,
   "id": "0f927801",
   "metadata": {
    "execution": {
     "iopub.execute_input": "2024-06-27T19:42:23.375766Z",
     "iopub.status.busy": "2024-06-27T19:42:23.375258Z",
     "iopub.status.idle": "2024-06-27T19:42:40.844612Z",
     "shell.execute_reply": "2024-06-27T19:42:40.843561Z"
    },
    "papermill": {
     "duration": 17.491505,
     "end_time": "2024-06-27T19:42:40.847079",
     "exception": false,
     "start_time": "2024-06-27T19:42:23.355574",
     "status": "completed"
    },
    "tags": []
   },
   "outputs": [
    {
     "name": "stdout",
     "output_type": "stream",
     "text": [
      "Collecting seqeval\r\n",
      "  Downloading seqeval-1.2.2.tar.gz (43 kB)\r\n",
      "\u001b[2K     \u001b[90m━━━━━━━━━━━━━━━━━━━━━━━━━━━━━━━━━━━━━━━━\u001b[0m \u001b[32m43.6/43.6 kB\u001b[0m \u001b[31m2.2 MB/s\u001b[0m eta \u001b[36m0:00:00\u001b[0m\r\n",
      "\u001b[?25h  Preparing metadata (setup.py) ... \u001b[?25l-\b \b\\\b \b|\b \bdone\r\n",
      "\u001b[?25hRequirement already satisfied: numpy>=1.14.0 in /opt/conda/lib/python3.10/site-packages (from seqeval) (1.26.4)\r\n",
      "Requirement already satisfied: scikit-learn>=0.21.3 in /opt/conda/lib/python3.10/site-packages (from seqeval) (1.2.2)\r\n",
      "Requirement already satisfied: scipy>=1.3.2 in /opt/conda/lib/python3.10/site-packages (from scikit-learn>=0.21.3->seqeval) (1.11.4)\r\n",
      "Requirement already satisfied: joblib>=1.1.1 in /opt/conda/lib/python3.10/site-packages (from scikit-learn>=0.21.3->seqeval) (1.4.2)\r\n",
      "Requirement already satisfied: threadpoolctl>=2.0.0 in /opt/conda/lib/python3.10/site-packages (from scikit-learn>=0.21.3->seqeval) (3.2.0)\r\n",
      "Building wheels for collected packages: seqeval\r\n",
      "  Building wheel for seqeval (setup.py) ... \u001b[?25l-\b \b\\\b \b|\b \bdone\r\n",
      "\u001b[?25h  Created wheel for seqeval: filename=seqeval-1.2.2-py3-none-any.whl size=16162 sha256=45415f0df8577d32d47aaf903554de0532da1c0dcd501dd2ce5bbdeeffb28b62\r\n",
      "  Stored in directory: /root/.cache/pip/wheels/1a/67/4a/ad4082dd7dfc30f2abfe4d80a2ed5926a506eb8a972b4767fa\r\n",
      "Successfully built seqeval\r\n",
      "Installing collected packages: seqeval\r\n",
      "Successfully installed seqeval-1.2.2\r\n"
     ]
    }
   ],
   "source": [
    "!pip install seqeval\n",
    "# !pip install wandb --upgrade"
   ]
  },
  {
   "cell_type": "code",
   "execution_count": 3,
   "id": "a434edf0",
   "metadata": {
    "execution": {
     "iopub.execute_input": "2024-06-27T19:42:40.889847Z",
     "iopub.status.busy": "2024-06-27T19:42:40.889333Z",
     "iopub.status.idle": "2024-06-27T19:42:59.002916Z",
     "shell.execute_reply": "2024-06-27T19:42:59.001908Z"
    },
    "papermill": {
     "duration": 18.137785,
     "end_time": "2024-06-27T19:42:59.005208",
     "exception": false,
     "start_time": "2024-06-27T19:42:40.867423",
     "status": "completed"
    },
    "tags": []
   },
   "outputs": [
    {
     "name": "stdout",
     "output_type": "stream",
     "text": [
      "cuda 1\n"
     ]
    }
   ],
   "source": [
    "%matplotlib inline\n",
    "\n",
    "import matplotlib.pyplot as plt\n",
    "import numpy as np\n",
    "import pandas as pd\n",
    "import ast\n",
    "from sklearn.metrics import f1_score, matthews_corrcoef\n",
    "from IPython.display import clear_output\n",
    "from nltk import pos_tag\n",
    "from tqdm import tqdm\n",
    "import pandas as pd\n",
    "from sklearn.model_selection import KFold, StratifiedKFold\n",
    "import os\n",
    "from IPython.display import clear_output\n",
    "import gc\n",
    "import joblib\n",
    "\n",
    "import warnings\n",
    "warnings.simplefilter(action = 'ignore', category = FutureWarning)\n",
    "warnings.simplefilter(action = 'ignore', category = DeprecationWarning)\n",
    "warnings.simplefilter(action = 'ignore', category = UserWarning)\n",
    "warnings.simplefilter(action = 'ignore', category = RuntimeWarning)\n",
    "warnings.filterwarnings(\"ignore\", message = \"numpy.dtype size changed\")\n",
    "warnings.filterwarnings(\"ignore\", message = \"numpy.ufunc size changed\")\n",
    "pd.options.mode.chained_assignment = None\n",
    "\n",
    "from warnings import simplefilter\n",
    "simplefilter(action = \"ignore\", category = pd.errors.PerformanceWarning)\n",
    "\n",
    "import torch\n",
    "import transformers\n",
    "\n",
    "from torch.utils.data import TensorDataset, DataLoader, RandomSampler, SequentialSampler\n",
    "\n",
    "from transformers import AutoTokenizer, AutoModelForTokenClassification\n",
    "\n",
    "from keras.utils import pad_sequences\n",
    "from sklearn.model_selection import train_test_split\n",
    "\n",
    "from transformers import AdamW, get_linear_schedule_with_warmup\n",
    "\n",
    "from seqeval.metrics import accuracy_score\n",
    "from sklearn.metrics import f1_score\n",
    "from tqdm import tqdm, trange\n",
    "\n",
    "try:\n",
    "    %load_ext autotime\n",
    "except:\n",
    "    pass \n",
    "\n",
    "clear_output(wait = False)\n",
    "\n",
    "from pathlib import Path\n",
    "Path(\"./models/\").mkdir(parents = True, exist_ok = True)\n",
    "Path(\"./models/checkpoint-last\").mkdir(parents=True, exist_ok=True)\n",
    "\n",
    "device = torch.device(\"cuda\" if torch.cuda.is_available() else \"cpu\")\n",
    "n_gpu = torch.cuda.device_count()\n",
    "print(device, n_gpu)\n",
    "\n",
    "# написать название модели\n",
    "\n",
    "# bert_name = 'bert-base-cased'\n",
    "# bert_name = 'bert-large-cased'\n",
    "# bert_name = 'roberta-large-base'\n",
    "bert_name = 'xlm-roberta-large'\n",
    "\n",
    "bert_tuned = bert_name\n",
    "\n",
    "MAX_LEN = 512\n",
    "OVERLAP = 0.2"
   ]
  },
  {
   "cell_type": "code",
   "execution_count": 4,
   "id": "9e2c5d30",
   "metadata": {
    "execution": {
     "iopub.execute_input": "2024-06-27T19:42:59.048734Z",
     "iopub.status.busy": "2024-06-27T19:42:59.047934Z",
     "iopub.status.idle": "2024-06-27T19:42:59.054980Z",
     "shell.execute_reply": "2024-06-27T19:42:59.054112Z"
    },
    "papermill": {
     "duration": 0.030497,
     "end_time": "2024-06-27T19:42:59.056996",
     "exception": false,
     "start_time": "2024-06-27T19:42:59.026499",
     "status": "completed"
    },
    "tags": []
   },
   "outputs": [],
   "source": [
    "try:\n",
    "    %load_ext autotime\n",
    "except:\n",
    "    pass \n",
    "\n",
    "clear_output(wait = False)"
   ]
  },
  {
   "cell_type": "code",
   "execution_count": 5,
   "id": "275d74ea",
   "metadata": {
    "execution": {
     "iopub.execute_input": "2024-06-27T19:42:59.099543Z",
     "iopub.status.busy": "2024-06-27T19:42:59.098904Z",
     "iopub.status.idle": "2024-06-27T19:42:59.106350Z",
     "shell.execute_reply": "2024-06-27T19:42:59.105451Z"
    },
    "papermill": {
     "duration": 0.030858,
     "end_time": "2024-06-27T19:42:59.108315",
     "exception": false,
     "start_time": "2024-06-27T19:42:59.077457",
     "status": "completed"
    },
    "tags": []
   },
   "outputs": [
    {
     "data": {
      "text/plain": [
       "['B-PER', 'I-PER', 'B-ORG', 'I-ORG', 'B-LOC', 'I-LOC']"
      ]
     },
     "execution_count": 5,
     "metadata": {},
     "output_type": "execute_result"
    }
   ],
   "source": [
    "import re\n",
    "import pandas as pd\n",
    "import string\n",
    "\n",
    "target_labels = ['B-PER', 'I-PER', 'B-ORG', 'I-ORG', 'B-LOC', 'I-LOC']\n",
    "\n",
    "target_labels"
   ]
  },
  {
   "cell_type": "code",
   "execution_count": 6,
   "id": "a5f46fb0",
   "metadata": {
    "execution": {
     "iopub.execute_input": "2024-06-27T19:42:59.150458Z",
     "iopub.status.busy": "2024-06-27T19:42:59.149645Z",
     "iopub.status.idle": "2024-06-27T19:42:59.162165Z",
     "shell.execute_reply": "2024-06-27T19:42:59.161294Z"
    },
    "papermill": {
     "duration": 0.035751,
     "end_time": "2024-06-27T19:42:59.164007",
     "exception": false,
     "start_time": "2024-06-27T19:42:59.128256",
     "status": "completed"
    },
    "tags": []
   },
   "outputs": [],
   "source": [
    "# Функция для обработки токенов\n",
    "def process_token(token):\n",
    "    if any(char.isalpha() for char in token):\n",
    "        return token.strip(string.punctuation)\n",
    "    else:\n",
    "        return token\n",
    "\n",
    "\n",
    "def make_cat(tags):\n",
    "    per = any('PER' in tag for tag in tags)\n",
    "    org = any('ORG' in tag for tag in tags)\n",
    "    loc = any('LOC' in tag for tag in tags)\n",
    "    return 4 * per + 2 * org + loc\n",
    "\n",
    "\n",
    "def read_dataset(path_file, train_data=True):\n",
    "    with open(path_file, encoding='utf-8') as file:\n",
    "        data = file.read()\n",
    "\n",
    "    # Переменные для данных и номер предложения\n",
    "    data_lines = data.strip().split('\\n')\n",
    "    num_sentence = 0\n",
    "    rows = []\n",
    "\n",
    "    # Чтение построчно и запись в структуру данных\n",
    "    for line in data_lines[1:]:  # Пропуск заголовка\n",
    "        if line.strip() == '':\n",
    "            num_sentence += 1\n",
    "        else:\n",
    "            line = re.sub(r'\"+', '\"', line)\n",
    "            line = re.sub(r'-+', '-', line)\n",
    "            parts = line.split('\\t')\n",
    "            if not train_data:\n",
    "                parts.append('')\n",
    "            rows.append([int(parts[0]), parts[1], parts[2], num_sentence])\n",
    "\n",
    "    # Создание DataFrame\n",
    "    columns = ['ID', 'token', 'tag', 'num_sentence']\n",
    "    df = pd.DataFrame(rows, columns=columns)\n",
    "\n",
    "    # Применение функции к колонке 'token'\n",
    "    df['token'] = df['token'].apply(process_token)\n",
    "\n",
    "    sentence_rows = []\n",
    "    sentence_tags = []\n",
    "    sentence_labels = []\n",
    "    for num in sorted(df.num_sentence.unique()):\n",
    "        temp = df[df.num_sentence == num]\n",
    "        tokens = temp.token.values\n",
    "        tags = temp.tag.values\n",
    "        sentence_rows.append(tokens)\n",
    "        sentence_tags.append(tags)\n",
    "        sentence_labels.append(make_cat(tags))\n",
    "    return df, sentence_rows, sentence_tags, sentence_labels"
   ]
  },
  {
   "cell_type": "code",
   "execution_count": 7,
   "id": "0c6334b4",
   "metadata": {
    "execution": {
     "iopub.execute_input": "2024-06-27T19:42:59.205645Z",
     "iopub.status.busy": "2024-06-27T19:42:59.204894Z",
     "iopub.status.idle": "2024-06-27T19:43:05.030889Z",
     "shell.execute_reply": "2024-06-27T19:43:05.029977Z"
    },
    "papermill": {
     "duration": 5.849273,
     "end_time": "2024-06-27T19:43:05.033170",
     "exception": false,
     "start_time": "2024-06-27T19:42:59.183897",
     "status": "completed"
    },
    "tags": []
   },
   "outputs": [
    {
     "data": {
      "text/html": [
       "<div>\n",
       "<style scoped>\n",
       "    .dataframe tbody tr th:only-of-type {\n",
       "        vertical-align: middle;\n",
       "    }\n",
       "\n",
       "    .dataframe tbody tr th {\n",
       "        vertical-align: top;\n",
       "    }\n",
       "\n",
       "    .dataframe thead th {\n",
       "        text-align: right;\n",
       "    }\n",
       "</style>\n",
       "<table border=\"1\" class=\"dataframe\">\n",
       "  <thead>\n",
       "    <tr style=\"text-align: right;\">\n",
       "      <th></th>\n",
       "      <th>ID</th>\n",
       "      <th>token</th>\n",
       "      <th>tag</th>\n",
       "      <th>num_sentence</th>\n",
       "    </tr>\n",
       "  </thead>\n",
       "  <tbody>\n",
       "    <tr>\n",
       "      <th>0</th>\n",
       "      <td>0</td>\n",
       "      <td>Book</td>\n",
       "      <td>O</td>\n",
       "      <td>0</td>\n",
       "    </tr>\n",
       "    <tr>\n",
       "      <th>1</th>\n",
       "      <td>1</td>\n",
       "      <td>I</td>\n",
       "      <td>O</td>\n",
       "      <td>0</td>\n",
       "    </tr>\n",
       "    <tr>\n",
       "      <th>2</th>\n",
       "      <td>2</td>\n",
       "      <td>I</td>\n",
       "      <td>O</td>\n",
       "      <td>0</td>\n",
       "    </tr>\n",
       "    <tr>\n",
       "      <th>3</th>\n",
       "      <td>3</td>\n",
       "      <td>On</td>\n",
       "      <td>O</td>\n",
       "      <td>0</td>\n",
       "    </tr>\n",
       "    <tr>\n",
       "      <th>4</th>\n",
       "      <td>4</td>\n",
       "      <td>a</td>\n",
       "      <td>O</td>\n",
       "      <td>0</td>\n",
       "    </tr>\n",
       "    <tr>\n",
       "      <th>...</th>\n",
       "      <td>...</td>\n",
       "      <td>...</td>\n",
       "      <td>...</td>\n",
       "      <td>...</td>\n",
       "    </tr>\n",
       "    <tr>\n",
       "      <th>179058</th>\n",
       "      <td>179058</td>\n",
       "      <td>North</td>\n",
       "      <td>B-LOC</td>\n",
       "      <td>7273</td>\n",
       "    </tr>\n",
       "    <tr>\n",
       "      <th>179059</th>\n",
       "      <td>179059</td>\n",
       "      <td>'</td>\n",
       "      <td>I-LOC</td>\n",
       "      <td>7273</td>\n",
       "    </tr>\n",
       "    <tr>\n",
       "      <th>179060</th>\n",
       "      <td>179060</td>\n",
       "      <td>ard</td>\n",
       "      <td>I-LOC</td>\n",
       "      <td>7273</td>\n",
       "    </tr>\n",
       "    <tr>\n",
       "      <th>179061</th>\n",
       "      <td>179061</td>\n",
       "      <td>\"</td>\n",
       "      <td>O</td>\n",
       "      <td>7273</td>\n",
       "    </tr>\n",
       "    <tr>\n",
       "      <th>179062</th>\n",
       "      <td>179062</td>\n",
       "      <td>.</td>\n",
       "      <td>O</td>\n",
       "      <td>7273</td>\n",
       "    </tr>\n",
       "  </tbody>\n",
       "</table>\n",
       "<p>179063 rows × 4 columns</p>\n",
       "</div>"
      ],
      "text/plain": [
       "            ID  token    tag  num_sentence\n",
       "0            0   Book      O             0\n",
       "1            1      I      O             0\n",
       "2            2      I      O             0\n",
       "3            3     On      O             0\n",
       "4            4      a      O             0\n",
       "...        ...    ...    ...           ...\n",
       "179058  179058  North  B-LOC          7273\n",
       "179059  179059      '  I-LOC          7273\n",
       "179060  179060    ard  I-LOC          7273\n",
       "179061  179061      \"      O          7273\n",
       "179062  179062      .      O          7273\n",
       "\n",
       "[179063 rows x 4 columns]"
      ]
     },
     "execution_count": 7,
     "metadata": {},
     "output_type": "execute_result"
    }
   ],
   "source": [
    "df, sentences, labels, row_labels = read_dataset('/kaggle/input/litbank-ner-2024/train_data_sent.csv')\n",
    "\n",
    "df"
   ]
  },
  {
   "cell_type": "code",
   "execution_count": 8,
   "id": "40e0a68a",
   "metadata": {
    "execution": {
     "iopub.execute_input": "2024-06-27T19:43:05.076039Z",
     "iopub.status.busy": "2024-06-27T19:43:05.075705Z",
     "iopub.status.idle": "2024-06-27T19:43:05.082893Z",
     "shell.execute_reply": "2024-06-27T19:43:05.082010Z"
    },
    "papermill": {
     "duration": 0.030304,
     "end_time": "2024-06-27T19:43:05.084902",
     "exception": false,
     "start_time": "2024-06-27T19:43:05.054598",
     "status": "completed"
    },
    "tags": []
   },
   "outputs": [
    {
     "data": {
      "text/plain": [
       "(['O', 'B-PER', 'I-PER', 'B-ORG', 'I-ORG', 'B-LOC', 'I-LOC', 'PAD'], 8)"
      ]
     },
     "execution_count": 8,
     "metadata": {},
     "output_type": "execute_result"
    }
   ],
   "source": [
    "tag_values = ['O'] + target_labels + ['PAD']\n",
    "tag2idx = {tag: idx for idx, tag in enumerate(tag_values)}\n",
    "idx2tag = {idx: tag for tag, idx in tag2idx.items()}\n",
    "tag_values, len(tag_values)"
   ]
  },
  {
   "cell_type": "code",
   "execution_count": 9,
   "id": "e482d2bb",
   "metadata": {
    "execution": {
     "iopub.execute_input": "2024-06-27T19:43:05.127160Z",
     "iopub.status.busy": "2024-06-27T19:43:05.126561Z",
     "iopub.status.idle": "2024-06-27T19:43:05.133041Z",
     "shell.execute_reply": "2024-06-27T19:43:05.132208Z"
    },
    "papermill": {
     "duration": 0.029783,
     "end_time": "2024-06-27T19:43:05.134990",
     "exception": false,
     "start_time": "2024-06-27T19:43:05.105207",
     "status": "completed"
    },
    "tags": []
   },
   "outputs": [
    {
     "data": {
      "text/plain": [
       "{'0': 'O',\n",
       " '1': 'B-PER',\n",
       " '2': 'I-PER',\n",
       " '3': 'B-ORG',\n",
       " '4': 'I-ORG',\n",
       " '5': 'B-LOC',\n",
       " '6': 'I-LOC',\n",
       " '7': 'PAD'}"
      ]
     },
     "execution_count": 9,
     "metadata": {},
     "output_type": "execute_result"
    }
   ],
   "source": [
    "idx2tag = {str(idx): tag for tag, idx in tag2idx.items()}\n",
    "idx2tag"
   ]
  },
  {
   "cell_type": "code",
   "execution_count": 10,
   "id": "2a0864f2",
   "metadata": {
    "execution": {
     "iopub.execute_input": "2024-06-27T19:43:05.178518Z",
     "iopub.status.busy": "2024-06-27T19:43:05.177540Z",
     "iopub.status.idle": "2024-06-27T19:43:05.183933Z",
     "shell.execute_reply": "2024-06-27T19:43:05.183071Z"
    },
    "papermill": {
     "duration": 0.030106,
     "end_time": "2024-06-27T19:43:05.185860",
     "exception": false,
     "start_time": "2024-06-27T19:43:05.155754",
     "status": "completed"
    },
    "tags": []
   },
   "outputs": [
    {
     "data": {
      "text/plain": [
       "{0: 'O',\n",
       " 1: 'B-PER',\n",
       " 2: 'I-PER',\n",
       " 3: 'B-ORG',\n",
       " 4: 'I-ORG',\n",
       " 5: 'B-LOC',\n",
       " 6: 'I-LOC',\n",
       " 7: 'PAD'}"
      ]
     },
     "execution_count": 10,
     "metadata": {},
     "output_type": "execute_result"
    }
   ],
   "source": [
    "idx2tag = {idx: tag for tag, idx in tag2idx.items()}\n",
    "idx2tag"
   ]
  },
  {
   "cell_type": "code",
   "execution_count": 11,
   "id": "c085f788",
   "metadata": {
    "execution": {
     "iopub.execute_input": "2024-06-27T19:43:05.228958Z",
     "iopub.status.busy": "2024-06-27T19:43:05.228573Z",
     "iopub.status.idle": "2024-06-27T19:43:05.694183Z",
     "shell.execute_reply": "2024-06-27T19:43:05.693236Z"
    },
    "papermill": {
     "duration": 0.490147,
     "end_time": "2024-06-27T19:43:05.696740",
     "exception": false,
     "start_time": "2024-06-27T19:43:05.206593",
     "status": "completed"
    },
    "tags": []
   },
   "outputs": [
    {
     "data": {
      "image/png": "[encoded data removed]",
      "text/plain": [
       "<Figure size 1800x800 with 1 Axes>"
      ]
     },
     "metadata": {},
     "output_type": "display_data"
    }
   ],
   "source": [
    "plt.figure(figsize=(18, 8))\n",
    "plt.hist([len(s) for s in sentences], bins=100)\n",
    "plt.show()"
   ]
  },
  {
   "cell_type": "code",
   "execution_count": 12,
   "id": "f7801678",
   "metadata": {
    "execution": {
     "iopub.execute_input": "2024-06-27T19:43:05.741477Z",
     "iopub.status.busy": "2024-06-27T19:43:05.741084Z",
     "iopub.status.idle": "2024-06-27T19:43:07.106094Z",
     "shell.execute_reply": "2024-06-27T19:43:07.105144Z"
    },
    "papermill": {
     "duration": 1.3892,
     "end_time": "2024-06-27T19:43:07.108333",
     "exception": false,
     "start_time": "2024-06-27T19:43:05.719133",
     "status": "completed"
    },
    "tags": []
   },
   "outputs": [
    {
     "data": {
      "application/vnd.jupyter.widget-view+json": {
       "model_id": "eac40976e1ca45448c5be2c8b846a055",
       "version_major": 2,
       "version_minor": 0
      },
      "text/plain": [
       "tokenizer_config.json:   0%|          | 0.00/49.0 [00:00<?, ?B/s]"
      ]
     },
     "metadata": {},
     "output_type": "display_data"
    },
    {
     "data": {
      "application/vnd.jupyter.widget-view+json": {
       "model_id": "e66dc96052fe41148a87833160fa5693",
       "version_major": 2,
       "version_minor": 0
      },
      "text/plain": [
       "config.json:   0%|          | 0.00/762 [00:00<?, ?B/s]"
      ]
     },
     "metadata": {},
     "output_type": "display_data"
    },
    {
     "data": {
      "application/vnd.jupyter.widget-view+json": {
       "model_id": "ccc0e01bfdb7438597a8cd7f1ab7d181",
       "version_major": 2,
       "version_minor": 0
      },
      "text/plain": [
       "vocab.txt:   0%|          | 0.00/213k [00:00<?, ?B/s]"
      ]
     },
     "metadata": {},
     "output_type": "display_data"
    },
    {
     "data": {
      "application/vnd.jupyter.widget-view+json": {
       "model_id": "606cacc72d514dd78898460845337729",
       "version_major": 2,
       "version_minor": 0
      },
      "text/plain": [
       "tokenizer.json:   0%|          | 0.00/436k [00:00<?, ?B/s]"
      ]
     },
     "metadata": {},
     "output_type": "display_data"
    },
    {
     "name": "stdout",
     "output_type": "stream",
     "text": [
      "CPU times: user 137 ms, sys: 14.9 ms, total: 152 ms\n",
      "Wall time: 1.36 s\n"
     ]
    }
   ],
   "source": [
    "%%time\n",
    "tokenizer = AutoTokenizer.from_pretrained(bert_name, do_lower_case = False)"
   ]
  },
  {
   "cell_type": "code",
   "execution_count": 13,
   "id": "1024ad1f",
   "metadata": {
    "execution": {
     "iopub.execute_input": "2024-06-27T19:43:07.153776Z",
     "iopub.status.busy": "2024-06-27T19:43:07.152824Z",
     "iopub.status.idle": "2024-06-27T19:43:07.158725Z",
     "shell.execute_reply": "2024-06-27T19:43:07.157945Z"
    },
    "papermill": {
     "duration": 0.031005,
     "end_time": "2024-06-27T19:43:07.160772",
     "exception": false,
     "start_time": "2024-06-27T19:43:07.129767",
     "status": "completed"
    },
    "tags": []
   },
   "outputs": [],
   "source": [
    "def tokenize_and_preserve_labels(sentence, text_labels):\n",
    "    tokenized_sentence = []\n",
    "    labels = []\n",
    "\n",
    "    for word, label in zip(sentence, text_labels):\n",
    "\n",
    "        # Tokenize the word and count # of subwords the word is broken into\n",
    "        tokenized_word = tokenizer.tokenize(word)\n",
    "        n_subwords = len(tokenized_word)\n",
    "\n",
    "        # Add the tokenized word to the final tokenized word list\n",
    "        tokenized_sentence.extend(tokenized_word)\n",
    "\n",
    "        # Add the same label to the new list of labels `n_subwords` times\n",
    "        labels.extend([label] * n_subwords)\n",
    "\n",
    "    return tokenized_sentence, labels"
   ]
  },
  {
   "cell_type": "code",
   "execution_count": 14,
   "id": "8b56eb6f",
   "metadata": {
    "execution": {
     "iopub.execute_input": "2024-06-27T19:43:07.207085Z",
     "iopub.status.busy": "2024-06-27T19:43:07.206264Z",
     "iopub.status.idle": "2024-06-27T19:43:07.221712Z",
     "shell.execute_reply": "2024-06-27T19:43:07.220778Z"
    },
    "papermill": {
     "duration": 0.0415,
     "end_time": "2024-06-27T19:43:07.223681",
     "exception": false,
     "start_time": "2024-06-27T19:43:07.182181",
     "status": "completed"
    },
    "tags": []
   },
   "outputs": [],
   "source": [
    "def split_sentence_with_overlap(s_words, s_labels, tokenizer,\n",
    "                                max_len=MAX_LEN, overlap=OVERLAP):\n",
    "    \"\"\"\n",
    "    Разделить предложение на части с перекрытием.\n",
    "    :param s_words: предложение -> список слов для разделения\n",
    "    :param s_labels: список меток слов\n",
    "    :param tokenizer: экземпляр токенизатора\n",
    "    :param max_len: максимальная длина части\n",
    "    :param overlap: процент перекрытия\n",
    "    :return: список частей предложения и список частей меток\n",
    "    \"\"\"\n",
    "    chunk_size = max_len - 12  # Оставляем место для специальных токенов\n",
    "    overlap_size = int(chunk_size * overlap)\n",
    "    chunks = []\n",
    "    start_index = end_index = 0\n",
    "    while end_index < len(s_words):\n",
    "        end_index = start_index + chunk_size\n",
    "        chunk_words = s_words[start_index:end_index]\n",
    "        chunk_text = ' '.join(chunk_words)\n",
    "\n",
    "        # Токенизируем текст, чтобы убедиться в том, что длина в токенах не превышает max_len\n",
    "        tokens = tokenizer.tokenize(chunk_text)\n",
    "        while len(tokens) > chunk_size and len(chunk_words):\n",
    "            chunk_words = chunk_words[:-1]\n",
    "            chunk_text = ' '.join(chunk_words)\n",
    "            tokens = tokenizer.tokenize(chunk_text)\n",
    "\n",
    "        chunks.append((chunk_words,\n",
    "                       s_labels[start_index: start_index + len(chunk_words)],\n",
    "                       start_index))\n",
    "\n",
    "        # У нас один чанк и нечего дальше крутить цикл - виснет\n",
    "        if len(chunk_words) == len(s_words):\n",
    "            break\n",
    "\n",
    "        # найдем сколько слов входит в перекрытие для вычисления индекса смещения\n",
    "        tokens = []\n",
    "        overlap_index = 0\n",
    "        reversed_words = chunk_words[::-1]\n",
    "        # пока длина токенов перекрытия меньше размера перекрытия добавляем по одному слову\n",
    "        while len(tokens) < overlap_size:\n",
    "            overlap_index += 1\n",
    "            tokens = tokenizer.tokenize(' '.join(reversed_words[:overlap_index]))\n",
    "\n",
    "        end_index = start_index + len(chunk_words)\n",
    "        # Следующая часть начинается с учетом перекрытия\n",
    "        start_index += len(chunk_words) - overlap_index\n",
    "\n",
    "    new_words, new_labels = [], []\n",
    "    for chunk_words, chunk_labels, start_index in chunks:\n",
    "        new_words.append(chunk_words)\n",
    "        new_labels.append(chunk_labels)\n",
    "\n",
    "    return new_words, new_labels\n",
    "\n",
    "\n",
    "def split_sentences(sentences, labels, row_labels, tokenizer, max_len=MAX_LEN, overlap=OVERLAP):\n",
    "    \"\"\"\n",
    "    Обработка списка списков предложений и списка списков меток\n",
    "    :param sentences: список списков предложений\n",
    "    :param labels: список списков меток\n",
    "    :param row_labels: список меток предложений (нужно для стратификации)\n",
    "    :param tokenizer: экземпляр токенизатора\n",
    "    :param max_len: максимальная длина части\n",
    "    :param overlap: процент перекрытия\n",
    "    :return: новые списки предложений и меток\n",
    "    \"\"\"\n",
    "    new_sentences, new_labels, new_row_labels, idx_rows = [], [], [], []\n",
    "\n",
    "    print('Разделение предложений на части:')\n",
    "    for idx, (s_words, s_labels, s_row) in tqdm(enumerate(zip(sentences, labels, row_labels)),\n",
    "                                                total=len(sentences)):\n",
    "        spl_snt, spl_lbl = split_sentence_with_overlap(s_words,\n",
    "                                                       s_labels,\n",
    "                                                       tokenizer,\n",
    "                                                       max_len=max_len,\n",
    "                                                       overlap=overlap)\n",
    "        new_sentences.extend(spl_snt)\n",
    "        new_labels.extend(spl_lbl)\n",
    "        new_row_labels.extend([s_row] * len(spl_snt))\n",
    "        idx_rows.extend([idx] * len(spl_snt))\n",
    "\n",
    "    return new_sentences, new_labels, new_row_labels, idx_rows"
   ]
  },
  {
   "cell_type": "code",
   "execution_count": 15,
   "id": "7122958c",
   "metadata": {
    "execution": {
     "iopub.execute_input": "2024-06-27T19:43:07.268602Z",
     "iopub.status.busy": "2024-06-27T19:43:07.267806Z",
     "iopub.status.idle": "2024-06-27T19:43:08.360378Z",
     "shell.execute_reply": "2024-06-27T19:43:08.359326Z"
    },
    "papermill": {
     "duration": 1.11777,
     "end_time": "2024-06-27T19:43:08.363143",
     "exception": false,
     "start_time": "2024-06-27T19:43:07.245373",
     "status": "completed"
    },
    "tags": []
   },
   "outputs": [
    {
     "name": "stdout",
     "output_type": "stream",
     "text": [
      "Количество предложений до: 7274\n",
      "\n",
      "Разделение предложений на части:\n"
     ]
    },
    {
     "name": "stderr",
     "output_type": "stream",
     "text": [
      "100%|██████████| 7274/7274 [00:01<00:00, 6736.04it/s]"
     ]
    },
    {
     "name": "stdout",
     "output_type": "stream",
     "text": [
      "\n",
      "Количество предложений после: 7274\n"
     ]
    },
    {
     "name": "stderr",
     "output_type": "stream",
     "text": [
      "\n"
     ]
    }
   ],
   "source": [
    "# разделение длинных предложений на части, так чтобы одно предложение не выходило за предел MAX_LEN токенов\n",
    "\n",
    "print(f'Количество предложений до: {len(sentences)}\\n')\n",
    "\n",
    "sentences, labels, row_labels, idx_rows = split_sentences(sentences, labels, row_labels,\n",
    "                                                          tokenizer, overlap=0.25)\n",
    "\n",
    "print(f'\\nКоличество предложений после: {len(sentences)}')"
   ]
  },
  {
   "cell_type": "code",
   "execution_count": 16,
   "id": "31375639",
   "metadata": {
    "execution": {
     "iopub.execute_input": "2024-06-27T19:43:08.411301Z",
     "iopub.status.busy": "2024-06-27T19:43:08.410506Z",
     "iopub.status.idle": "2024-06-27T19:43:16.687407Z",
     "shell.execute_reply": "2024-06-27T19:43:16.686375Z"
    },
    "papermill": {
     "duration": 8.303658,
     "end_time": "2024-06-27T19:43:16.690003",
     "exception": false,
     "start_time": "2024-06-27T19:43:08.386345",
     "status": "completed"
    },
    "tags": []
   },
   "outputs": [],
   "source": [
    "tokenized_texts_and_labels = [\n",
    "    tokenize_and_preserve_labels(sent, labs)\n",
    "    for sent, labs in zip(sentences, labels)\n",
    "]"
   ]
  },
  {
   "cell_type": "code",
   "execution_count": 17,
   "id": "a892eafb",
   "metadata": {
    "execution": {
     "iopub.execute_input": "2024-06-27T19:43:16.738268Z",
     "iopub.status.busy": "2024-06-27T19:43:16.737421Z",
     "iopub.status.idle": "2024-06-27T19:43:28.009660Z",
     "shell.execute_reply": "2024-06-27T19:43:28.008804Z"
    },
    "papermill": {
     "duration": 11.29905,
     "end_time": "2024-06-27T19:43:28.012018",
     "exception": false,
     "start_time": "2024-06-27T19:43:16.712968",
     "status": "completed"
    },
    "tags": []
   },
   "outputs": [],
   "source": [
    "tokenized_texts = [token_label_pair[0] for token_label_pair in tokenized_texts_and_labels]\n",
    "\n",
    "labels = [token_label_pair[1] for token_label_pair in tokenized_texts_and_labels]\n",
    "\n",
    "input_ids = pad_sequences([tokenizer.convert_tokens_to_ids(txt) for txt in tokenized_texts],\n",
    "                          maxlen = MAX_LEN, dtype = \"long\", value = 0.0,\n",
    "                          truncating = \"post\", padding = \"post\")\n",
    "\n",
    "tags = pad_sequences([[tag2idx.get(l) for l in lab] for lab in labels],\n",
    "                     maxlen = MAX_LEN, value = tag2idx[\"PAD\"], padding = \"post\",\n",
    "                     dtype = \"long\", truncating = \"post\")\n",
    "\n",
    "attention_masks = [[float(i != 0.0) for i in ii] for ii in input_ids]"
   ]
  },
  {
   "cell_type": "code",
   "execution_count": 18,
   "id": "b4d8bc08",
   "metadata": {
    "execution": {
     "iopub.execute_input": "2024-06-27T19:43:28.059981Z",
     "iopub.status.busy": "2024-06-27T19:43:28.059611Z",
     "iopub.status.idle": "2024-06-27T19:43:28.066077Z",
     "shell.execute_reply": "2024-06-27T19:43:28.065172Z"
    },
    "papermill": {
     "duration": 0.032973,
     "end_time": "2024-06-27T19:43:28.068277",
     "exception": false,
     "start_time": "2024-06-27T19:43:28.035304",
     "status": "completed"
    },
    "tags": []
   },
   "outputs": [
    {
     "data": {
      "text/plain": [
       "['Book',\n",
       " 'I',\n",
       " 'I',\n",
       " 'On',\n",
       " 'a',\n",
       " 'January',\n",
       " 'evening',\n",
       " 'of',\n",
       " 'the',\n",
       " 'early',\n",
       " 'seven',\n",
       " '##ties',\n",
       " ',',\n",
       " 'Christine',\n",
       " 'Ni',\n",
       " '##lsson',\n",
       " 'was',\n",
       " 'singing',\n",
       " 'in',\n",
       " 'Faust',\n",
       " 'at',\n",
       " 'the',\n",
       " 'Academy',\n",
       " 'of',\n",
       " 'Music',\n",
       " 'in',\n",
       " 'New',\n",
       " 'York',\n",
       " '.']"
      ]
     },
     "execution_count": 18,
     "metadata": {},
     "output_type": "execute_result"
    }
   ],
   "source": [
    "tokenized_texts[0]"
   ]
  },
  {
   "cell_type": "code",
   "execution_count": 19,
   "id": "078984f4",
   "metadata": {
    "execution": {
     "iopub.execute_input": "2024-06-27T19:43:28.118564Z",
     "iopub.status.busy": "2024-06-27T19:43:28.118172Z",
     "iopub.status.idle": "2024-06-27T19:43:28.124655Z",
     "shell.execute_reply": "2024-06-27T19:43:28.123738Z"
    },
    "papermill": {
     "duration": 0.034591,
     "end_time": "2024-06-27T19:43:28.126608",
     "exception": false,
     "start_time": "2024-06-27T19:43:28.092017",
     "status": "completed"
    },
    "tags": []
   },
   "outputs": [
    {
     "data": {
      "text/plain": [
       "['O',\n",
       " 'O',\n",
       " 'O',\n",
       " 'O',\n",
       " 'O',\n",
       " 'O',\n",
       " 'O',\n",
       " 'O',\n",
       " 'O',\n",
       " 'O',\n",
       " 'O',\n",
       " 'O',\n",
       " 'O',\n",
       " 'B-PER',\n",
       " 'I-PER',\n",
       " 'I-PER',\n",
       " 'O',\n",
       " 'O',\n",
       " 'O',\n",
       " 'O',\n",
       " 'O',\n",
       " 'O',\n",
       " 'O',\n",
       " 'O',\n",
       " 'O',\n",
       " 'O',\n",
       " 'B-LOC',\n",
       " 'I-LOC',\n",
       " 'O']"
      ]
     },
     "execution_count": 19,
     "metadata": {},
     "output_type": "execute_result"
    }
   ],
   "source": [
    "labels[0]"
   ]
  },
  {
   "cell_type": "code",
   "execution_count": 22,
   "id": "93f9fd47",
   "metadata": {
    "execution": {
     "iopub.execute_input": "2024-06-27T19:43:28.348392Z",
     "iopub.status.busy": "2024-06-27T19:43:28.347603Z",
     "iopub.status.idle": "2024-06-27T19:43:28.356017Z",
     "shell.execute_reply": "2024-06-27T19:43:28.355074Z"
    },
    "papermill": {
     "duration": 0.090474,
     "end_time": "2024-06-27T19:43:28.358020",
     "exception": false,
     "start_time": "2024-06-27T19:43:28.267546",
     "status": "completed"
    },
    "tags": []
   },
   "outputs": [],
   "source": [
    "def get_model():\n",
    "    \n",
    "    model = AutoModelForTokenClassification.from_pretrained(\n",
    "        bert_name,\n",
    "        num_labels = len(tag2idx),\n",
    "        output_attentions = False,\n",
    "        output_hidden_states = False,\n",
    "        ignore_mismatched_sizes=True,\n",
    "    )\n",
    "    \n",
    "    model.to(device)\n",
    "    \n",
    "    FULL_FINETUNING = True\n",
    "    if FULL_FINETUNING:\n",
    "        param_optimizer = list(model.named_parameters())\n",
    "        no_decay = ['bias', 'gamma', 'beta']\n",
    "        optimizer_grouped_parameters = [\n",
    "            {'params': [p for n, p in param_optimizer if not any(nd in n for nd in no_decay)],\n",
    "             'weight_decay_rate': 0.01},\n",
    "            {'params': [p for n, p in param_optimizer if any(nd in n for nd in no_decay)],\n",
    "             'weight_decay_rate': 0.0}\n",
    "        ]\n",
    "    else:\n",
    "        param_optimizer = list(model.classifier.named_parameters())\n",
    "        optimizer_grouped_parameters = [{\"params\": [p for n, p in param_optimizer]}]\n",
    "\n",
    "    optimizer = AdamW(\n",
    "        optimizer_grouped_parameters,\n",
    "        lr=3e-5,\n",
    "        eps=1e-8\n",
    "    )    \n",
    "    \n",
    "    return model, optimizer"
   ]
  },
  {
   "cell_type": "code",
   "execution_count": 23,
   "id": "b0baa0bf",
   "metadata": {
    "execution": {
     "iopub.execute_input": "2024-06-27T19:43:28.408778Z",
     "iopub.status.busy": "2024-06-27T19:43:28.408199Z",
     "iopub.status.idle": "2024-06-27T19:43:28.467604Z",
     "shell.execute_reply": "2024-06-27T19:43:28.466600Z"
    },
    "papermill": {
     "duration": 0.087399,
     "end_time": "2024-06-27T19:43:28.469677",
     "exception": false,
     "start_time": "2024-06-27T19:43:28.382278",
     "status": "completed"
    },
    "tags": []
   },
   "outputs": [],
   "source": [
    "def train_model(name_model, best_score_total=0):\n",
    "    \n",
    "    epochs = 30\n",
    "    max_grad_norm = 1.0\n",
    "\n",
    "    # Total number of training steps is number of batches * number of epochs.\n",
    "    total_steps = len(train_dataloader) * epochs\n",
    "\n",
    "    # Create the learning rate scheduler.\n",
    "    scheduler = get_linear_schedule_with_warmup(\n",
    "        optimizer,\n",
    "        num_warmup_steps = 0,\n",
    "        num_training_steps = total_steps\n",
    "    )\n",
    "    ## Store the average loss after each epoch so we can plot them.\n",
    "    loss_values, validation_loss_values = [], []\n",
    "    best_score = 0\n",
    "    not_increase = 0\n",
    "    not_increase_stop = 3\n",
    "\n",
    "    #for _ in trange(epochs, desc = \"Epoch\"):\n",
    "    for epoch in range(epochs):\n",
    "        # ========================================\n",
    "        #               Training\n",
    "        # ========================================\n",
    "        # Perform one full pass over the training set.\n",
    "\n",
    "        # Put the model into training mode.\n",
    "        model.train()\n",
    "        # Reset the total loss for this epoch.\n",
    "        total_loss = 0\n",
    "\n",
    "        # Training loop\n",
    "        for step, batch in tqdm(enumerate(train_dataloader), total=len(train_dataloader)):\n",
    "            # Перенос батча на GPU\n",
    "            batch = tuple(t.to(device) for t in batch)\n",
    "            b_input_ids, b_input_mask, b_labels = batch\n",
    "\n",
    "            # Убедитесь, что метки имеют тип LongTensor\n",
    "            b_labels = b_labels.long()\n",
    "\n",
    "            # Всегда очищайте любые ранее рассчитанные градиенты перед выполнением обратного прохода\n",
    "            model.zero_grad()\n",
    "\n",
    "            # Прямой проход\n",
    "            outputs = model(\n",
    "                b_input_ids, \n",
    "                token_type_ids=None,\n",
    "                attention_mask=b_input_mask, \n",
    "                labels=b_labels\n",
    "            )\n",
    "\n",
    "            # Получение потерь\n",
    "            loss = outputs[0]\n",
    "            # Выполнение обратного прохода для расчета градиентов\n",
    "            loss.backward()\n",
    "            # Отслеживание тренировочных потерь\n",
    "            total_loss += loss.item()\n",
    "            # Ограничение нормы градиента\n",
    "            torch.nn.utils.clip_grad_norm_(parameters=model.parameters(), max_norm=max_grad_norm)\n",
    "            # Обновление параметров\n",
    "            optimizer.step()\n",
    "            # Обновление скорости обучения\n",
    "            scheduler.step()\n",
    "            \n",
    "\n",
    "        # Calculate the average loss over the training data.\n",
    "        avg_train_loss = total_loss / len(train_dataloader)\n",
    "        #print(\"Average train loss: {}\".format(avg_train_loss))\n",
    "\n",
    "        # Store the loss value for plotting the learning curve.\n",
    "        loss_values.append(avg_train_loss)\n",
    "    \n",
    "        # ========================================\n",
    "        #               Validation\n",
    "        # ========================================\n",
    "        # After the completion of each training epoch, measure our performance on\n",
    "        # our validation set.\n",
    "\n",
    "        # Put the model into evaluation mode\n",
    "        model.eval()\n",
    "        # Reset the validation loss for this epoch.\n",
    "        eval_loss, eval_accuracy = 0, 0\n",
    "        nb_eval_steps, nb_eval_examples = 0, 0\n",
    "        predictions , true_labels = [], []\n",
    "        for batch in tqdm(valid_dataloader):\n",
    "            batch = tuple(t.to(device) for t in batch)\n",
    "            b_input_ids, b_input_mask, b_labels = batch\n",
    "\n",
    "            # Telling the model not to compute or store gradients,\n",
    "            # saving memory and speeding up validation\n",
    "            with torch.no_grad():\n",
    "                # Forward pass, calculate logit predictions.\n",
    "                # This will return the logits rather than the loss because we have not provided labels.\n",
    "                outputs = model(\n",
    "                    b_input_ids, \n",
    "                    token_type_ids = None,\n",
    "                    attention_mask = b_input_mask, \n",
    "                    labels = b_labels\n",
    "                )\n",
    "            # Move logits and labels to CPU\n",
    "            logits = outputs[1].detach().cpu().numpy()\n",
    "            label_ids = b_labels.to('cpu').numpy()\n",
    "\n",
    "            # Calculate the accuracy for this batch of test sentences.\n",
    "            eval_loss += outputs[0].mean().item()\n",
    "            predictions.extend([list(p) for p in np.argmax(logits, axis = 2)])\n",
    "            true_labels.extend(label_ids)\n",
    "\n",
    "        eval_loss = eval_loss / len(valid_dataloader)\n",
    "        validation_loss_values.append(eval_loss)\n",
    "    \n",
    "        #print(\"Validation loss: {}\".format(eval_loss))\n",
    "        pred_tags = [tag_values[p_i] for p, l in zip(predictions, true_labels)\n",
    "                                     for p_i, l_i in zip(p, l) if tag_values[l_i] != \"PAD\"]\n",
    "        valid_tags = [tag_values[l_i] for l in true_labels\n",
    "                                      for l_i in l if tag_values[l_i] != \"PAD\"]\n",
    "        score_val = f1_score(\n",
    "                valid_tags, pred_tags, \n",
    "                labels = ['O', 'B-PER', 'I-PER', 'B-ORG', 'I-ORG', 'B-LOC', 'I-LOC'], \n",
    "                average = 'macro'\n",
    "        )\n",
    "        #print(\"Validation Accuracy: {}\".format(accuracy_score(pred_tags, valid_tags)))\n",
    "        #print(\"Validation F1-Score: {}\".format(score_val))\n",
    "        if best_score < score_val:\n",
    "            best_score = score_val         \n",
    "            not_increase = 0         \n",
    "            if best_score_total < best_score:\n",
    "                best_score_total = best_score\n",
    "                msg = f'save model, {best_score_total}, {score_val}'\n",
    "                \n",
    "                # Save the fine-tuned model locally\n",
    "                model.save_pretrained(f\"./models/checkpoint-last\")\n",
    "                \n",
    "                try:\n",
    "                    Path(name_model).mkdir(parents = True, exist_ok = True)\n",
    "                    model.save_pretrained(name_model)\n",
    "                except:    \n",
    "                    pass\n",
    "            else:\n",
    "                msg = f'... {best_score_total}, {score_val}'\n",
    "                \n",
    "            print('epoch:', epoch, msg)\n",
    "        else:\n",
    "            not_increase += 1\n",
    "            msg = f'not_increase = {not_increase}, {best_score}, {score_val}'\n",
    "            print('epoch:', epoch, msg)\n",
    "            if not_increase >= not_increase_stop:                \n",
    "                print('not_increase = ', not_increase_stop)\n",
    "                break\n",
    "                \n",
    "    return best_score_total"
   ]
  },
  {
   "cell_type": "code",
   "execution_count": 24,
   "id": "69ce31fa",
   "metadata": {
    "execution": {
     "iopub.execute_input": "2024-06-27T19:43:28.519715Z",
     "iopub.status.busy": "2024-06-27T19:43:28.518976Z",
     "iopub.status.idle": "2024-06-28T05:08:09.485676Z",
     "shell.execute_reply": "2024-06-28T05:08:09.484703Z"
    },
    "papermill": {
     "duration": 33880.994195,
     "end_time": "2024-06-28T05:08:09.487900",
     "exception": false,
     "start_time": "2024-06-27T19:43:28.493705",
     "status": "completed"
    },
    "tags": []
   },
   "outputs": [
    {
     "name": "stdout",
     "output_type": "stream",
     "text": [
      "SEED 0 Fold 6\n",
      "0.7930545469072661\n"
     ]
    },
    {
     "name": "stderr",
     "output_type": "stream",
     "text": [
      "Some weights of BertForTokenClassification were not initialized from the model checkpoint at bert-large-cased and are newly initialized: ['classifier.bias', 'classifier.weight']\n",
      "You should probably TRAIN this model on a down-stream task to be able to use it for predictions and inference.\n",
      "100%|██████████| 780/780 [18:28<00:00,  1.42s/it]\n",
      "100%|██████████| 130/130 [00:55<00:00,  2.32it/s]\n"
     ]
    },
    {
     "name": "stdout",
     "output_type": "stream",
     "text": [
      "epoch: 0 ... 0.7930545469072661, 0.49684107054952664\n"
     ]
    },
    {
     "name": "stderr",
     "output_type": "stream",
     "text": [
      "100%|██████████| 780/780 [18:28<00:00,  1.42s/it]\n",
      "100%|██████████| 130/130 [00:56<00:00,  2.32it/s]\n"
     ]
    },
    {
     "name": "stdout",
     "output_type": "stream",
     "text": [
      "epoch: 1 ... 0.7930545469072661, 0.7227178060744043\n"
     ]
    },
    {
     "name": "stderr",
     "output_type": "stream",
     "text": [
      "100%|██████████| 780/780 [18:28<00:00,  1.42s/it]\n",
      "100%|██████████| 130/130 [00:55<00:00,  2.32it/s]\n"
     ]
    },
    {
     "name": "stdout",
     "output_type": "stream",
     "text": [
      "epoch: 2 ... 0.7930545469072661, 0.7507606829250302\n"
     ]
    },
    {
     "name": "stderr",
     "output_type": "stream",
     "text": [
      "100%|██████████| 780/780 [18:28<00:00,  1.42s/it]\n",
      "100%|██████████| 130/130 [00:55<00:00,  2.32it/s]\n"
     ]
    },
    {
     "name": "stdout",
     "output_type": "stream",
     "text": [
      "epoch: 3 not_increase = 1, 0.7507606829250302, 0.7239057475605387\n"
     ]
    },
    {
     "name": "stderr",
     "output_type": "stream",
     "text": [
      "100%|██████████| 780/780 [18:28<00:00,  1.42s/it]\n",
      "100%|██████████| 130/130 [00:56<00:00,  2.32it/s]\n"
     ]
    },
    {
     "name": "stdout",
     "output_type": "stream",
     "text": [
      "epoch: 4 not_increase = 2, 0.7507606829250302, 0.7288767275187809\n"
     ]
    },
    {
     "name": "stderr",
     "output_type": "stream",
     "text": [
      "100%|██████████| 780/780 [18:28<00:00,  1.42s/it]\n",
      "100%|██████████| 130/130 [00:56<00:00,  2.32it/s]\n"
     ]
    },
    {
     "name": "stdout",
     "output_type": "stream",
     "text": [
      "epoch: 5 ... 0.7930545469072661, 0.7810240555960257\n"
     ]
    },
    {
     "name": "stderr",
     "output_type": "stream",
     "text": [
      "100%|██████████| 780/780 [18:28<00:00,  1.42s/it]\n",
      "100%|██████████| 130/130 [00:55<00:00,  2.33it/s]\n"
     ]
    },
    {
     "name": "stdout",
     "output_type": "stream",
     "text": [
      "epoch: 6 not_increase = 1, 0.7810240555960257, 0.7546918067046658\n"
     ]
    },
    {
     "name": "stderr",
     "output_type": "stream",
     "text": [
      "100%|██████████| 780/780 [18:28<00:00,  1.42s/it]\n",
      "100%|██████████| 130/130 [00:56<00:00,  2.32it/s]\n"
     ]
    },
    {
     "name": "stdout",
     "output_type": "stream",
     "text": [
      "epoch: 7 ... 0.7930545469072661, 0.7813427535266051\n"
     ]
    },
    {
     "name": "stderr",
     "output_type": "stream",
     "text": [
      "100%|██████████| 780/780 [18:28<00:00,  1.42s/it]\n",
      "100%|██████████| 130/130 [00:55<00:00,  2.32it/s]\n"
     ]
    },
    {
     "name": "stdout",
     "output_type": "stream",
     "text": [
      "epoch: 8 not_increase = 1, 0.7813427535266051, 0.7111319855720871\n"
     ]
    },
    {
     "name": "stderr",
     "output_type": "stream",
     "text": [
      "100%|██████████| 780/780 [18:27<00:00,  1.42s/it]\n",
      "100%|██████████| 130/130 [00:56<00:00,  2.32it/s]\n"
     ]
    },
    {
     "name": "stdout",
     "output_type": "stream",
     "text": [
      "epoch: 9 not_increase = 2, 0.7813427535266051, 0.7685407247696473\n"
     ]
    },
    {
     "name": "stderr",
     "output_type": "stream",
     "text": [
      "100%|██████████| 780/780 [18:27<00:00,  1.42s/it]\n",
      "100%|██████████| 130/130 [00:56<00:00,  2.32it/s]\n"
     ]
    },
    {
     "name": "stdout",
     "output_type": "stream",
     "text": [
      "epoch: 10 not_increase = 3, 0.7813427535266051, 0.7295881763485099\n",
      "not_increase =  3\n",
      "0.7930545469072661\n"
     ]
    }
   ],
   "source": [
    "SEEDS = 1\n",
    "scores = []\n",
    "batch_size = 8\n",
    "\n",
    "best_score = 0 \n",
    "\n",
    "folds = 7\n",
    "\n",
    "train_version = f'base-{folds}F'\n",
    "\n",
    "for seed in (0, 7, 13, 2024):    \n",
    "    # kf = KFold(n_splits = 5, random_state = seed, shuffle = True)\n",
    "    kf = StratifiedKFold(n_splits=folds, random_state=seed, shuffle=True)\n",
    "    for fold, (train_index, val_index) in enumerate(kf.split(input_ids, row_labels)):\n",
    "        \n",
    "#         # оставим наилучший фолд по предыдущим расчетам\n",
    "#         if fold < 4:\n",
    "#             continue\n",
    "        \n",
    "        test_index = sorted(set([idx_rows[i] for i in val_index]))\n",
    "        df.iloc[test_index].to_csv(f'seed_{seed}_{train_version}_fold_{fold}.csv', index=False)\n",
    "        \n",
    "        clear_output(wait = False)\n",
    "        print('SEED', seed, 'Fold', fold)\n",
    "        print(np.mean(scores) - np.std(scores))\n",
    "        \n",
    "        tr_inputs  = input_ids[train_index]\n",
    "        val_inputs = input_ids[val_index]\n",
    "        \n",
    "        tr_tags  = tags[train_index]\n",
    "        val_tags = tags[val_index]\n",
    "        \n",
    "        tr_masks  = np.array(attention_masks)[train_index]\n",
    "        val_masks = np.array(attention_masks)[val_index]\n",
    "        \n",
    "        tr_inputs = torch.tensor(tr_inputs)\n",
    "        val_inputs = torch.tensor(val_inputs)\n",
    "\n",
    "        tr_tags = torch.tensor(tr_tags, dtype=torch.long)\n",
    "        val_tags = torch.tensor(val_tags, dtype=torch.long)\n",
    "\n",
    "        tr_masks = torch.tensor(tr_masks)\n",
    "        val_masks = torch.tensor(val_masks)\n",
    "        \n",
    "        train_data = TensorDataset(tr_inputs, tr_masks, tr_tags)\n",
    "        train_sampler = RandomSampler(train_data)\n",
    "        train_dataloader = DataLoader(train_data, sampler = train_sampler, batch_size = batch_size)\n",
    "        \n",
    "        valid_data = TensorDataset(val_inputs, val_masks, val_tags)\n",
    "        valid_sampler = SequentialSampler(valid_data)\n",
    "        valid_dataloader = DataLoader(valid_data, sampler = valid_sampler, batch_size = batch_size)\n",
    "        \n",
    "        model, optimizer = get_model()\n",
    "        \n",
    "        name_model = f'./best_model-{fold}-{folds}'\n",
    "        score = train_model(name_model, best_score)\n",
    "        scores.append(score)   \n",
    "        best_score = score\n",
    "               \n",
    "        del model, optimizer; gc.collect()     \n",
    "        \n",
    "        # хватит одного фолда\n",
    "#         break\n",
    "        \n",
    "print(np.mean(scores) - np.std(scores))"
   ]
  },
  {
   "cell_type": "code",
   "execution_count": 25,
   "id": "f2c918fa",
   "metadata": {
    "execution": {
     "iopub.execute_input": "2024-06-28T05:08:11.110873Z",
     "iopub.status.busy": "2024-06-28T05:08:11.110525Z",
     "iopub.status.idle": "2024-06-28T05:09:24.563841Z",
     "shell.execute_reply": "2024-06-28T05:09:24.562838Z"
    },
    "papermill": {
     "duration": 75.075545,
     "end_time": "2024-06-28T05:09:25.373501",
     "exception": false,
     "start_time": "2024-06-28T05:08:10.297956",
     "status": "completed"
    },
    "tags": []
   },
   "outputs": [
    {
     "name": "stdout",
     "output_type": "stream",
     "text": [
      "models/checkpoint-last/config.json\n",
      "models/checkpoint-last/model.safetensors\n",
      "seed_0_base-7F_fold_4.csv\n",
      "seed_0_base-7F_fold_5.csv\n",
      "seed_0_base-7F_fold_6.csv\n"
     ]
    },
    {
     "data": {
      "text/html": [
       "<a href='model_bert-large-cased_base-7F.zip' target='_blank'>model_bert-large-cased_base-7F.zip</a><br>"
      ],
      "text/plain": [
       "/kaggle/working/model_bert-large-cased_base-7F.zip"
      ]
     },
     "execution_count": 25,
     "metadata": {},
     "output_type": "execute_result"
    }
   ],
   "source": [
    "from IPython.display import display, FileLink\n",
    "from zipfile import ZipFile, ZIP_DEFLATED as ZD\n",
    "from glob import glob\n",
    "\n",
    "_name = bert_name.split('/')[0]\n",
    "\n",
    "files = glob(f'models/checkpoint-last/*.*') + glob('*.csv')\n",
    "zip_filename = f'model_{_name}_{train_version}.zip'\n",
    "with ZipFile(zip_filename, 'w',  compression=ZD, compresslevel=9) as zip_file:\n",
    "    for filename in files:\n",
    "        print(filename)\n",
    "        zip_file.write(filename)\n",
    "FileLink(zip_filename)"
   ]
  }
 ],
 "metadata": {
  "kaggle": {
   "accelerator": "gpu",
   "dataSources": [
    {
     "databundleVersionId": 7648440,
     "sourceId": 68893,
     "sourceType": "competition"
    }
   ],
   "dockerImageVersionId": 30733,
   "isGpuEnabled": true,
   "isInternetEnabled": true,
   "language": "python",
   "sourceType": "notebook"
  },
  "kernelspec": {
   "display_name": "Python 3 (ipykernel)",
   "language": "python",
   "name": "python3"
  },
  "language_info": {
   "codemirror_mode": {
    "name": "ipython",
    "version": 3
   },
   "file_extension": ".py",
   "mimetype": "text/x-python",
   "name": "python",
   "nbconvert_exporter": "python",
   "pygments_lexer": "ipython3",
   "version": "3.11.5"
  },
  "papermill": {
   "default_parameters": {},
   "duration": 34029.29314,
   "end_time": "2024-06-28T05:09:28.975569",
   "environment_variables": {},
   "exception": null,
   "input_path": "__notebook__.ipynb",
   "output_path": "__notebook__.ipynb",
   "parameters": {},
   "start_time": "2024-06-27T19:42:19.682429",
   "version": "2.5.0"
  },
  "widgets": {
   "application/vnd.jupyter.widget-state+json": {
    "state": {
     "089431ce113849ac85842e5272a44fea": {
      "model_module": "@jupyter-widgets/controls",
      "model_module_version": "1.5.0",
      "model_name": "ProgressStyleModel",
      "state": {
       "_model_module": "@jupyter-widgets/controls",
       "_model_module_version": "1.5.0",
       "_model_name": "ProgressStyleModel",
       "_view_count": null,
       "_view_module": "@jupyter-widgets/base",
       "_view_module_version": "1.2.0",
       "_view_name": "StyleView",
       "bar_color": null,
       "description_width": ""
      }
     },
     "0b24f4edfbdd429c8ce8f46f17b440cb": {
      "model_module": "@jupyter-widgets/controls",
      "model_module_version": "1.5.0",
      "model_name": "HTMLModel",
      "state": {
       "_dom_classes": [],
       "_model_module": "@jupyter-widgets/controls",
       "_model_module_version": "1.5.0",
       "_model_name": "HTMLModel",
       "_view_count": null,
       "_view_module": "@jupyter-widgets/controls",
       "_view_module_version": "1.5.0",
       "_view_name": "HTMLView",
       "description": "",
       "description_tooltip": null,
       "layout": "IPY_MODEL_52ff00d4fb254884a829a4b0a1b60e22",
       "placeholder": "​",
       "style": "IPY_MODEL_d95087780e2a425482ef42b1c5799ee1",
       "value": " 213k/213k [00:00&lt;00:00, 7.00MB/s]"
      }
     },
     "0e0d8d99855d4cac93511da5e60c108e": {
      "model_module": "@jupyter-widgets/base",
      "model_module_version": "1.2.0",
      "model_name": "LayoutModel",
      "state": {
       "_model_module": "@jupyter-widgets/base",
       "_model_module_version": "1.2.0",
       "_model_name": "LayoutModel",
       "_view_count": null,
       "_view_module": "@jupyter-widgets/base",
       "_view_module_version": "1.2.0",
       "_view_name": "LayoutView",
       "align_content": null,
       "align_items": null,
       "align_self": null,
       "border": null,
       "bottom": null,
       "display": null,
       "flex": null,
       "flex_flow": null,
       "grid_area": null,
       "grid_auto_columns": null,
       "grid_auto_flow": null,
       "grid_auto_rows": null,
       "grid_column": null,
       "grid_gap": null,
       "grid_row": null,
       "grid_template_areas": null,
       "grid_template_columns": null,
       "grid_template_rows": null,
       "height": null,
       "justify_content": null,
       "justify_items": null,
       "left": null,
       "margin": null,
       "max_height": null,
       "max_width": null,
       "min_height": null,
       "min_width": null,
       "object_fit": null,
       "object_position": null,
       "order": null,
       "overflow": null,
       "overflow_x": null,
       "overflow_y": null,
       "padding": null,
       "right": null,
       "top": null,
       "visibility": null,
       "width": null
      }
     },
     "0eb1c5e605a24711a261dbd4e6e8cd2d": {
      "model_module": "@jupyter-widgets/base",
      "model_module_version": "1.2.0",
      "model_name": "LayoutModel",
      "state": {
       "_model_module": "@jupyter-widgets/base",
       "_model_module_version": "1.2.0",
       "_model_name": "LayoutModel",
       "_view_count": null,
       "_view_module": "@jupyter-widgets/base",
       "_view_module_version": "1.2.0",
       "_view_name": "LayoutView",
       "align_content": null,
       "align_items": null,
       "align_self": null,
       "border": null,
       "bottom": null,
       "display": null,
       "flex": null,
       "flex_flow": null,
       "grid_area": null,
       "grid_auto_columns": null,
       "grid_auto_flow": null,
       "grid_auto_rows": null,
       "grid_column": null,
       "grid_gap": null,
       "grid_row": null,
       "grid_template_areas": null,
       "grid_template_columns": null,
       "grid_template_rows": null,
       "height": null,
       "justify_content": null,
       "justify_items": null,
       "left": null,
       "margin": null,
       "max_height": null,
       "max_width": null,
       "min_height": null,
       "min_width": null,
       "object_fit": null,
       "object_position": null,
       "order": null,
       "overflow": null,
       "overflow_x": null,
       "overflow_y": null,
       "padding": null,
       "right": null,
       "top": null,
       "visibility": null,
       "width": null
      }
     },
     "17bcacb217b4499284da59aa35f1a09d": {
      "model_module": "@jupyter-widgets/controls",
      "model_module_version": "1.5.0",
      "model_name": "DescriptionStyleModel",
      "state": {
       "_model_module": "@jupyter-widgets/controls",
       "_model_module_version": "1.5.0",
       "_model_name": "DescriptionStyleModel",
       "_view_count": null,
       "_view_module": "@jupyter-widgets/base",
       "_view_module_version": "1.2.0",
       "_view_name": "StyleView",
       "description_width": ""
      }
     },
     "1b4e5899218f45f9969d2e769316d39a": {
      "model_module": "@jupyter-widgets/controls",
      "model_module_version": "1.5.0",
      "model_name": "HTMLModel",
      "state": {
       "_dom_classes": [],
       "_model_module": "@jupyter-widgets/controls",
       "_model_module_version": "1.5.0",
       "_model_name": "HTMLModel",
       "_view_count": null,
       "_view_module": "@jupyter-widgets/controls",
       "_view_module_version": "1.5.0",
       "_view_name": "HTMLView",
       "description": "",
       "description_tooltip": null,
       "layout": "IPY_MODEL_8290c2cc0e7f40f0ac9483f30ac27430",
       "placeholder": "​",
       "style": "IPY_MODEL_ef604454195b401ca15724632f55d071",
       "value": " 762/762 [00:00&lt;00:00, 65.1kB/s]"
      }
     },
     "2c57b8d9ce734a24b8eb11d13b7ca0af": {
      "model_module": "@jupyter-widgets/base",
      "model_module_version": "1.2.0",
      "model_name": "LayoutModel",
      "state": {
       "_model_module": "@jupyter-widgets/base",
       "_model_module_version": "1.2.0",
       "_model_name": "LayoutModel",
       "_view_count": null,
       "_view_module": "@jupyter-widgets/base",
       "_view_module_version": "1.2.0",
       "_view_name": "LayoutView",
       "align_content": null,
       "align_items": null,
       "align_self": null,
       "border": null,
       "bottom": null,
       "display": null,
       "flex": null,
       "flex_flow": null,
       "grid_area": null,
       "grid_auto_columns": null,
       "grid_auto_flow": null,
       "grid_auto_rows": null,
       "grid_column": null,
       "grid_gap": null,
       "grid_row": null,
       "grid_template_areas": null,
       "grid_template_columns": null,
       "grid_template_rows": null,
       "height": null,
       "justify_content": null,
       "justify_items": null,
       "left": null,
       "margin": null,
       "max_height": null,
       "max_width": null,
       "min_height": null,
       "min_width": null,
       "object_fit": null,
       "object_position": null,
       "order": null,
       "overflow": null,
       "overflow_x": null,
       "overflow_y": null,
       "padding": null,
       "right": null,
       "top": null,
       "visibility": null,
       "width": null
      }
     },
     "2eea588eca424569bf56a8079dec425c": {
      "model_module": "@jupyter-widgets/controls",
      "model_module_version": "1.5.0",
      "model_name": "HTMLModel",
      "state": {
       "_dom_classes": [],
       "_model_module": "@jupyter-widgets/controls",
       "_model_module_version": "1.5.0",
       "_model_name": "HTMLModel",
       "_view_count": null,
       "_view_module": "@jupyter-widgets/controls",
       "_view_module_version": "1.5.0",
       "_view_name": "HTMLView",
       "description": "",
       "description_tooltip": null,
       "layout": "IPY_MODEL_61c291c2e42d406f80520885c1bb26cb",
       "placeholder": "​",
       "style": "IPY_MODEL_17bcacb217b4499284da59aa35f1a09d",
       "value": "tokenizer_config.json: 100%"
      }
     },
     "2f6f728646e84113be31bb3970f4510d": {
      "model_module": "@jupyter-widgets/base",
      "model_module_version": "1.2.0",
      "model_name": "LayoutModel",
      "state": {
       "_model_module": "@jupyter-widgets/base",
       "_model_module_version": "1.2.0",
       "_model_name": "LayoutModel",
       "_view_count": null,
       "_view_module": "@jupyter-widgets/base",
       "_view_module_version": "1.2.0",
       "_view_name": "LayoutView",
       "align_content": null,
       "align_items": null,
       "align_self": null,
       "border": null,
       "bottom": null,
       "display": null,
       "flex": null,
       "flex_flow": null,
       "grid_area": null,
       "grid_auto_columns": null,
       "grid_auto_flow": null,
       "grid_auto_rows": null,
       "grid_column": null,
       "grid_gap": null,
       "grid_row": null,
       "grid_template_areas": null,
       "grid_template_columns": null,
       "grid_template_rows": null,
       "height": null,
       "justify_content": null,
       "justify_items": null,
       "left": null,
       "margin": null,
       "max_height": null,
       "max_width": null,
       "min_height": null,
       "min_width": null,
       "object_fit": null,
       "object_position": null,
       "order": null,
       "overflow": null,
       "overflow_x": null,
       "overflow_y": null,
       "padding": null,
       "right": null,
       "top": null,
       "visibility": null,
       "width": null
      }
     },
     "368a04e3ef0747f1aaf996665a11ae14": {
      "model_module": "@jupyter-widgets/base",
      "model_module_version": "1.2.0",
      "model_name": "LayoutModel",
      "state": {
       "_model_module": "@jupyter-widgets/base",
       "_model_module_version": "1.2.0",
       "_model_name": "LayoutModel",
       "_view_count": null,
       "_view_module": "@jupyter-widgets/base",
       "_view_module_version": "1.2.0",
       "_view_name": "LayoutView",
       "align_content": null,
       "align_items": null,
       "align_self": null,
       "border": null,
       "bottom": null,
       "display": null,
       "flex": null,
       "flex_flow": null,
       "grid_area": null,
       "grid_auto_columns": null,
       "grid_auto_flow": null,
       "grid_auto_rows": null,
       "grid_column": null,
       "grid_gap": null,
       "grid_row": null,
       "grid_template_areas": null,
       "grid_template_columns": null,
       "grid_template_rows": null,
       "height": null,
       "justify_content": null,
       "justify_items": null,
       "left": null,
       "margin": null,
       "max_height": null,
       "max_width": null,
       "min_height": null,
       "min_width": null,
       "object_fit": null,
       "object_position": null,
       "order": null,
       "overflow": null,
       "overflow_x": null,
       "overflow_y": null,
       "padding": null,
       "right": null,
       "top": null,
       "visibility": null,
       "width": null
      }
     },
     "3db858a525eb49fbb499dc5bbd09826b": {
      "model_module": "@jupyter-widgets/controls",
      "model_module_version": "1.5.0",
      "model_name": "ProgressStyleModel",
      "state": {
       "_model_module": "@jupyter-widgets/controls",
       "_model_module_version": "1.5.0",
       "_model_name": "ProgressStyleModel",
       "_view_count": null,
       "_view_module": "@jupyter-widgets/base",
       "_view_module_version": "1.2.0",
       "_view_name": "StyleView",
       "bar_color": null,
       "description_width": ""
      }
     },
     "3e22d9d15285412f9c24c76675ff0118": {
      "model_module": "@jupyter-widgets/base",
      "model_module_version": "1.2.0",
      "model_name": "LayoutModel",
      "state": {
       "_model_module": "@jupyter-widgets/base",
       "_model_module_version": "1.2.0",
       "_model_name": "LayoutModel",
       "_view_count": null,
       "_view_module": "@jupyter-widgets/base",
       "_view_module_version": "1.2.0",
       "_view_name": "LayoutView",
       "align_content": null,
       "align_items": null,
       "align_self": null,
       "border": null,
       "bottom": null,
       "display": null,
       "flex": null,
       "flex_flow": null,
       "grid_area": null,
       "grid_auto_columns": null,
       "grid_auto_flow": null,
       "grid_auto_rows": null,
       "grid_column": null,
       "grid_gap": null,
       "grid_row": null,
       "grid_template_areas": null,
       "grid_template_columns": null,
       "grid_template_rows": null,
       "height": null,
       "justify_content": null,
       "justify_items": null,
       "left": null,
       "margin": null,
       "max_height": null,
       "max_width": null,
       "min_height": null,
       "min_width": null,
       "object_fit": null,
       "object_position": null,
       "order": null,
       "overflow": null,
       "overflow_x": null,
       "overflow_y": null,
       "padding": null,
       "right": null,
       "top": null,
       "visibility": null,
       "width": null
      }
     },
     "3f634a348d1f4aa7b60e3592012c6c78": {
      "model_module": "@jupyter-widgets/controls",
      "model_module_version": "1.5.0",
      "model_name": "DescriptionStyleModel",
      "state": {
       "_model_module": "@jupyter-widgets/controls",
       "_model_module_version": "1.5.0",
       "_model_name": "DescriptionStyleModel",
       "_view_count": null,
       "_view_module": "@jupyter-widgets/base",
       "_view_module_version": "1.2.0",
       "_view_name": "StyleView",
       "description_width": ""
      }
     },
     "443cbc2416fa4459b28784d0731f5611": {
      "model_module": "@jupyter-widgets/base",
      "model_module_version": "1.2.0",
      "model_name": "LayoutModel",
      "state": {
       "_model_module": "@jupyter-widgets/base",
       "_model_module_version": "1.2.0",
       "_model_name": "LayoutModel",
       "_view_count": null,
       "_view_module": "@jupyter-widgets/base",
       "_view_module_version": "1.2.0",
       "_view_name": "LayoutView",
       "align_content": null,
       "align_items": null,
       "align_self": null,
       "border": null,
       "bottom": null,
       "display": null,
       "flex": null,
       "flex_flow": null,
       "grid_area": null,
       "grid_auto_columns": null,
       "grid_auto_flow": null,
       "grid_auto_rows": null,
       "grid_column": null,
       "grid_gap": null,
       "grid_row": null,
       "grid_template_areas": null,
       "grid_template_columns": null,
       "grid_template_rows": null,
       "height": null,
       "justify_content": null,
       "justify_items": null,
       "left": null,
       "margin": null,
       "max_height": null,
       "max_width": null,
       "min_height": null,
       "min_width": null,
       "object_fit": null,
       "object_position": null,
       "order": null,
       "overflow": null,
       "overflow_x": null,
       "overflow_y": null,
       "padding": null,
       "right": null,
       "top": null,
       "visibility": null,
       "width": null
      }
     },
     "52ff00d4fb254884a829a4b0a1b60e22": {
      "model_module": "@jupyter-widgets/base",
      "model_module_version": "1.2.0",
      "model_name": "LayoutModel",
      "state": {
       "_model_module": "@jupyter-widgets/base",
       "_model_module_version": "1.2.0",
       "_model_name": "LayoutModel",
       "_view_count": null,
       "_view_module": "@jupyter-widgets/base",
       "_view_module_version": "1.2.0",
       "_view_name": "LayoutView",
       "align_content": null,
       "align_items": null,
       "align_self": null,
       "border": null,
       "bottom": null,
       "display": null,
       "flex": null,
       "flex_flow": null,
       "grid_area": null,
       "grid_auto_columns": null,
       "grid_auto_flow": null,
       "grid_auto_rows": null,
       "grid_column": null,
       "grid_gap": null,
       "grid_row": null,
       "grid_template_areas": null,
       "grid_template_columns": null,
       "grid_template_rows": null,
       "height": null,
       "justify_content": null,
       "justify_items": null,
       "left": null,
       "margin": null,
       "max_height": null,
       "max_width": null,
       "min_height": null,
       "min_width": null,
       "object_fit": null,
       "object_position": null,
       "order": null,
       "overflow": null,
       "overflow_x": null,
       "overflow_y": null,
       "padding": null,
       "right": null,
       "top": null,
       "visibility": null,
       "width": null
      }
     },
     "606cacc72d514dd78898460845337729": {
      "model_module": "@jupyter-widgets/controls",
      "model_module_version": "1.5.0",
      "model_name": "HBoxModel",
      "state": {
       "_dom_classes": [],
       "_model_module": "@jupyter-widgets/controls",
       "_model_module_version": "1.5.0",
       "_model_name": "HBoxModel",
       "_view_count": null,
       "_view_module": "@jupyter-widgets/controls",
       "_view_module_version": "1.5.0",
       "_view_name": "HBoxView",
       "box_style": "",
       "children": [
        "IPY_MODEL_f03b27391c5e4d438af85e1f9d887d30",
        "IPY_MODEL_7c53d5957d7b4bd68d020a47864155c9",
        "IPY_MODEL_9423a5e698834fa68880b6ed9d658d9d"
       ],
       "layout": "IPY_MODEL_9b0f023631e14dfcb7edd6c1bca5cd9e"
      }
     },
     "61c291c2e42d406f80520885c1bb26cb": {
      "model_module": "@jupyter-widgets/base",
      "model_module_version": "1.2.0",
      "model_name": "LayoutModel",
      "state": {
       "_model_module": "@jupyter-widgets/base",
       "_model_module_version": "1.2.0",
       "_model_name": "LayoutModel",
       "_view_count": null,
       "_view_module": "@jupyter-widgets/base",
       "_view_module_version": "1.2.0",
       "_view_name": "LayoutView",
       "align_content": null,
       "align_items": null,
       "align_self": null,
       "border": null,
       "bottom": null,
       "display": null,
       "flex": null,
       "flex_flow": null,
       "grid_area": null,
       "grid_auto_columns": null,
       "grid_auto_flow": null,
       "grid_auto_rows": null,
       "grid_column": null,
       "grid_gap": null,
       "grid_row": null,
       "grid_template_areas": null,
       "grid_template_columns": null,
       "grid_template_rows": null,
       "height": null,
       "justify_content": null,
       "justify_items": null,
       "left": null,
       "margin": null,
       "max_height": null,
       "max_width": null,
       "min_height": null,
       "min_width": null,
       "object_fit": null,
       "object_position": null,
       "order": null,
       "overflow": null,
       "overflow_x": null,
       "overflow_y": null,
       "padding": null,
       "right": null,
       "top": null,
       "visibility": null,
       "width": null
      }
     },
     "68dca588ae994c20857417bd0ed9e07d": {
      "model_module": "@jupyter-widgets/controls",
      "model_module_version": "1.5.0",
      "model_name": "ProgressStyleModel",
      "state": {
       "_model_module": "@jupyter-widgets/controls",
       "_model_module_version": "1.5.0",
       "_model_name": "ProgressStyleModel",
       "_view_count": null,
       "_view_module": "@jupyter-widgets/base",
       "_view_module_version": "1.2.0",
       "_view_name": "StyleView",
       "bar_color": null,
       "description_width": ""
      }
     },
     "6b3b6d9fe03c4b79aa34caeb5df4bd44": {
      "model_module": "@jupyter-widgets/base",
      "model_module_version": "1.2.0",
      "model_name": "LayoutModel",
      "state": {
       "_model_module": "@jupyter-widgets/base",
       "_model_module_version": "1.2.0",
       "_model_name": "LayoutModel",
       "_view_count": null,
       "_view_module": "@jupyter-widgets/base",
       "_view_module_version": "1.2.0",
       "_view_name": "LayoutView",
       "align_content": null,
       "align_items": null,
       "align_self": null,
       "border": null,
       "bottom": null,
       "display": null,
       "flex": null,
       "flex_flow": null,
       "grid_area": null,
       "grid_auto_columns": null,
       "grid_auto_flow": null,
       "grid_auto_rows": null,
       "grid_column": null,
       "grid_gap": null,
       "grid_row": null,
       "grid_template_areas": null,
       "grid_template_columns": null,
       "grid_template_rows": null,
       "height": null,
       "justify_content": null,
       "justify_items": null,
       "left": null,
       "margin": null,
       "max_height": null,
       "max_width": null,
       "min_height": null,
       "min_width": null,
       "object_fit": null,
       "object_position": null,
       "order": null,
       "overflow": null,
       "overflow_x": null,
       "overflow_y": null,
       "padding": null,
       "right": null,
       "top": null,
       "visibility": null,
       "width": null
      }
     },
     "769506fe774543d7bf96890f5a2afda9": {
      "model_module": "@jupyter-widgets/controls",
      "model_module_version": "1.5.0",
      "model_name": "DescriptionStyleModel",
      "state": {
       "_model_module": "@jupyter-widgets/controls",
       "_model_module_version": "1.5.0",
       "_model_name": "DescriptionStyleModel",
       "_view_count": null,
       "_view_module": "@jupyter-widgets/base",
       "_view_module_version": "1.2.0",
       "_view_name": "StyleView",
       "description_width": ""
      }
     },
     "7a00348b47b746d3bb2c4eab86da5b0b": {
      "model_module": "@jupyter-widgets/base",
      "model_module_version": "1.2.0",
      "model_name": "LayoutModel",
      "state": {
       "_model_module": "@jupyter-widgets/base",
       "_model_module_version": "1.2.0",
       "_model_name": "LayoutModel",
       "_view_count": null,
       "_view_module": "@jupyter-widgets/base",
       "_view_module_version": "1.2.0",
       "_view_name": "LayoutView",
       "align_content": null,
       "align_items": null,
       "align_self": null,
       "border": null,
       "bottom": null,
       "display": null,
       "flex": null,
       "flex_flow": null,
       "grid_area": null,
       "grid_auto_columns": null,
       "grid_auto_flow": null,
       "grid_auto_rows": null,
       "grid_column": null,
       "grid_gap": null,
       "grid_row": null,
       "grid_template_areas": null,
       "grid_template_columns": null,
       "grid_template_rows": null,
       "height": null,
       "justify_content": null,
       "justify_items": null,
       "left": null,
       "margin": null,
       "max_height": null,
       "max_width": null,
       "min_height": null,
       "min_width": null,
       "object_fit": null,
       "object_position": null,
       "order": null,
       "overflow": null,
       "overflow_x": null,
       "overflow_y": null,
       "padding": null,
       "right": null,
       "top": null,
       "visibility": null,
       "width": null
      }
     },
     "7c53d5957d7b4bd68d020a47864155c9": {
      "model_module": "@jupyter-widgets/controls",
      "model_module_version": "1.5.0",
      "model_name": "FloatProgressModel",
      "state": {
       "_dom_classes": [],
       "_model_module": "@jupyter-widgets/controls",
       "_model_module_version": "1.5.0",
       "_model_name": "FloatProgressModel",
       "_view_count": null,
       "_view_module": "@jupyter-widgets/controls",
       "_view_module_version": "1.5.0",
       "_view_name": "ProgressView",
       "bar_style": "success",
       "description": "",
       "description_tooltip": null,
       "layout": "IPY_MODEL_3e22d9d15285412f9c24c76675ff0118",
       "max": 435797,
       "min": 0,
       "orientation": "horizontal",
       "style": "IPY_MODEL_e02d6357ceaf49108f93fb1259500e34",
       "value": 435797
      }
     },
     "8290c2cc0e7f40f0ac9483f30ac27430": {
      "model_module": "@jupyter-widgets/base",
      "model_module_version": "1.2.0",
      "model_name": "LayoutModel",
      "state": {
       "_model_module": "@jupyter-widgets/base",
       "_model_module_version": "1.2.0",
       "_model_name": "LayoutModel",
       "_view_count": null,
       "_view_module": "@jupyter-widgets/base",
       "_view_module_version": "1.2.0",
       "_view_name": "LayoutView",
       "align_content": null,
       "align_items": null,
       "align_self": null,
       "border": null,
       "bottom": null,
       "display": null,
       "flex": null,
       "flex_flow": null,
       "grid_area": null,
       "grid_auto_columns": null,
       "grid_auto_flow": null,
       "grid_auto_rows": null,
       "grid_column": null,
       "grid_gap": null,
       "grid_row": null,
       "grid_template_areas": null,
       "grid_template_columns": null,
       "grid_template_rows": null,
       "height": null,
       "justify_content": null,
       "justify_items": null,
       "left": null,
       "margin": null,
       "max_height": null,
       "max_width": null,
       "min_height": null,
       "min_width": null,
       "object_fit": null,
       "object_position": null,
       "order": null,
       "overflow": null,
       "overflow_x": null,
       "overflow_y": null,
       "padding": null,
       "right": null,
       "top": null,
       "visibility": null,
       "width": null
      }
     },
     "8355dc234a8d41f6ad4945bc826af2a8": {
      "model_module": "@jupyter-widgets/base",
      "model_module_version": "1.2.0",
      "model_name": "LayoutModel",
      "state": {
       "_model_module": "@jupyter-widgets/base",
       "_model_module_version": "1.2.0",
       "_model_name": "LayoutModel",
       "_view_count": null,
       "_view_module": "@jupyter-widgets/base",
       "_view_module_version": "1.2.0",
       "_view_name": "LayoutView",
       "align_content": null,
       "align_items": null,
       "align_self": null,
       "border": null,
       "bottom": null,
       "display": null,
       "flex": null,
       "flex_flow": null,
       "grid_area": null,
       "grid_auto_columns": null,
       "grid_auto_flow": null,
       "grid_auto_rows": null,
       "grid_column": null,
       "grid_gap": null,
       "grid_row": null,
       "grid_template_areas": null,
       "grid_template_columns": null,
       "grid_template_rows": null,
       "height": null,
       "justify_content": null,
       "justify_items": null,
       "left": null,
       "margin": null,
       "max_height": null,
       "max_width": null,
       "min_height": null,
       "min_width": null,
       "object_fit": null,
       "object_position": null,
       "order": null,
       "overflow": null,
       "overflow_x": null,
       "overflow_y": null,
       "padding": null,
       "right": null,
       "top": null,
       "visibility": null,
       "width": null
      }
     },
     "8654748cc5a74abea4429904be0571be": {
      "model_module": "@jupyter-widgets/controls",
      "model_module_version": "1.5.0",
      "model_name": "DescriptionStyleModel",
      "state": {
       "_model_module": "@jupyter-widgets/controls",
       "_model_module_version": "1.5.0",
       "_model_name": "DescriptionStyleModel",
       "_view_count": null,
       "_view_module": "@jupyter-widgets/base",
       "_view_module_version": "1.2.0",
       "_view_name": "StyleView",
       "description_width": ""
      }
     },
     "87a7eb9f7f424d7886b0188f96dab202": {
      "model_module": "@jupyter-widgets/controls",
      "model_module_version": "1.5.0",
      "model_name": "FloatProgressModel",
      "state": {
       "_dom_classes": [],
       "_model_module": "@jupyter-widgets/controls",
       "_model_module_version": "1.5.0",
       "_model_name": "FloatProgressModel",
       "_view_count": null,
       "_view_module": "@jupyter-widgets/controls",
       "_view_module_version": "1.5.0",
       "_view_name": "ProgressView",
       "bar_style": "success",
       "description": "",
       "description_tooltip": null,
       "layout": "IPY_MODEL_bafe7d80dadc4c0faa5c56f4f5ba95aa",
       "max": 762,
       "min": 0,
       "orientation": "horizontal",
       "style": "IPY_MODEL_b47a19d29b4c4a1db0ff23c9876d5431",
       "value": 762
      }
     },
     "9423a5e698834fa68880b6ed9d658d9d": {
      "model_module": "@jupyter-widgets/controls",
      "model_module_version": "1.5.0",
      "model_name": "HTMLModel",
      "state": {
       "_dom_classes": [],
       "_model_module": "@jupyter-widgets/controls",
       "_model_module_version": "1.5.0",
       "_model_name": "HTMLModel",
       "_view_count": null,
       "_view_module": "@jupyter-widgets/controls",
       "_view_module_version": "1.5.0",
       "_view_name": "HTMLView",
       "description": "",
       "description_tooltip": null,
       "layout": "IPY_MODEL_8355dc234a8d41f6ad4945bc826af2a8",
       "placeholder": "​",
       "style": "IPY_MODEL_769506fe774543d7bf96890f5a2afda9",
       "value": " 436k/436k [00:00&lt;00:00, 3.08MB/s]"
      }
     },
     "94349d957d7f4558b45f60a31673e809": {
      "model_module": "@jupyter-widgets/base",
      "model_module_version": "1.2.0",
      "model_name": "LayoutModel",
      "state": {
       "_model_module": "@jupyter-widgets/base",
       "_model_module_version": "1.2.0",
       "_model_name": "LayoutModel",
       "_view_count": null,
       "_view_module": "@jupyter-widgets/base",
       "_view_module_version": "1.2.0",
       "_view_name": "LayoutView",
       "align_content": null,
       "align_items": null,
       "align_self": null,
       "border": null,
       "bottom": null,
       "display": null,
       "flex": null,
       "flex_flow": null,
       "grid_area": null,
       "grid_auto_columns": null,
       "grid_auto_flow": null,
       "grid_auto_rows": null,
       "grid_column": null,
       "grid_gap": null,
       "grid_row": null,
       "grid_template_areas": null,
       "grid_template_columns": null,
       "grid_template_rows": null,
       "height": null,
       "justify_content": null,
       "justify_items": null,
       "left": null,
       "margin": null,
       "max_height": null,
       "max_width": null,
       "min_height": null,
       "min_width": null,
       "object_fit": null,
       "object_position": null,
       "order": null,
       "overflow": null,
       "overflow_x": null,
       "overflow_y": null,
       "padding": null,
       "right": null,
       "top": null,
       "visibility": null,
       "width": null
      }
     },
     "966a1f564254470491c824c7c7dc4bcc": {
      "model_module": "@jupyter-widgets/controls",
      "model_module_version": "1.5.0",
      "model_name": "HTMLModel",
      "state": {
       "_dom_classes": [],
       "_model_module": "@jupyter-widgets/controls",
       "_model_module_version": "1.5.0",
       "_model_name": "HTMLModel",
       "_view_count": null,
       "_view_module": "@jupyter-widgets/controls",
       "_view_module_version": "1.5.0",
       "_view_name": "HTMLView",
       "description": "",
       "description_tooltip": null,
       "layout": "IPY_MODEL_443cbc2416fa4459b28784d0731f5611",
       "placeholder": "​",
       "style": "IPY_MODEL_3f634a348d1f4aa7b60e3592012c6c78",
       "value": "config.json: 100%"
      }
     },
     "9b0f023631e14dfcb7edd6c1bca5cd9e": {
      "model_module": "@jupyter-widgets/base",
      "model_module_version": "1.2.0",
      "model_name": "LayoutModel",
      "state": {
       "_model_module": "@jupyter-widgets/base",
       "_model_module_version": "1.2.0",
       "_model_name": "LayoutModel",
       "_view_count": null,
       "_view_module": "@jupyter-widgets/base",
       "_view_module_version": "1.2.0",
       "_view_name": "LayoutView",
       "align_content": null,
       "align_items": null,
       "align_self": null,
       "border": null,
       "bottom": null,
       "display": null,
       "flex": null,
       "flex_flow": null,
       "grid_area": null,
       "grid_auto_columns": null,
       "grid_auto_flow": null,
       "grid_auto_rows": null,
       "grid_column": null,
       "grid_gap": null,
       "grid_row": null,
       "grid_template_areas": null,
       "grid_template_columns": null,
       "grid_template_rows": null,
       "height": null,
       "justify_content": null,
       "justify_items": null,
       "left": null,
       "margin": null,
       "max_height": null,
       "max_width": null,
       "min_height": null,
       "min_width": null,
       "object_fit": null,
       "object_position": null,
       "order": null,
       "overflow": null,
       "overflow_x": null,
       "overflow_y": null,
       "padding": null,
       "right": null,
       "top": null,
       "visibility": null,
       "width": null
      }
     },
     "9e3e07c9fc1d4581a35a07dcc36de411": {
      "model_module": "@jupyter-widgets/controls",
      "model_module_version": "1.5.0",
      "model_name": "FloatProgressModel",
      "state": {
       "_dom_classes": [],
       "_model_module": "@jupyter-widgets/controls",
       "_model_module_version": "1.5.0",
       "_model_name": "FloatProgressModel",
       "_view_count": null,
       "_view_module": "@jupyter-widgets/controls",
       "_view_module_version": "1.5.0",
       "_view_name": "ProgressView",
       "bar_style": "success",
       "description": "",
       "description_tooltip": null,
       "layout": "IPY_MODEL_368a04e3ef0747f1aaf996665a11ae14",
       "max": 213450,
       "min": 0,
       "orientation": "horizontal",
       "style": "IPY_MODEL_089431ce113849ac85842e5272a44fea",
       "value": 213450
      }
     },
     "a2b2239899ae4fa4b82211952e0863bf": {
      "model_module": "@jupyter-widgets/controls",
      "model_module_version": "1.5.0",
      "model_name": "FloatProgressModel",
      "state": {
       "_dom_classes": [],
       "_model_module": "@jupyter-widgets/controls",
       "_model_module_version": "1.5.0",
       "_model_name": "FloatProgressModel",
       "_view_count": null,
       "_view_module": "@jupyter-widgets/controls",
       "_view_module_version": "1.5.0",
       "_view_name": "ProgressView",
       "bar_style": "success",
       "description": "",
       "description_tooltip": null,
       "layout": "IPY_MODEL_e1773869b98b44138509cbba28c2ce80",
       "max": 1338695354,
       "min": 0,
       "orientation": "horizontal",
       "style": "IPY_MODEL_68dca588ae994c20857417bd0ed9e07d",
       "value": 1338695354
      }
     },
     "b21d2a8495fa45b7a7c606e8acb220d5": {
      "model_module": "@jupyter-widgets/controls",
      "model_module_version": "1.5.0",
      "model_name": "DescriptionStyleModel",
      "state": {
       "_model_module": "@jupyter-widgets/controls",
       "_model_module_version": "1.5.0",
       "_model_name": "DescriptionStyleModel",
       "_view_count": null,
       "_view_module": "@jupyter-widgets/base",
       "_view_module_version": "1.2.0",
       "_view_name": "StyleView",
       "description_width": ""
      }
     },
     "b47a19d29b4c4a1db0ff23c9876d5431": {
      "model_module": "@jupyter-widgets/controls",
      "model_module_version": "1.5.0",
      "model_name": "ProgressStyleModel",
      "state": {
       "_model_module": "@jupyter-widgets/controls",
       "_model_module_version": "1.5.0",
       "_model_name": "ProgressStyleModel",
       "_view_count": null,
       "_view_module": "@jupyter-widgets/base",
       "_view_module_version": "1.2.0",
       "_view_name": "StyleView",
       "bar_color": null,
       "description_width": ""
      }
     },
     "b52bae562b1a4023a3e54bbc4e99af25": {
      "model_module": "@jupyter-widgets/controls",
      "model_module_version": "1.5.0",
      "model_name": "HTMLModel",
      "state": {
       "_dom_classes": [],
       "_model_module": "@jupyter-widgets/controls",
       "_model_module_version": "1.5.0",
       "_model_name": "HTMLModel",
       "_view_count": null,
       "_view_module": "@jupyter-widgets/controls",
       "_view_module_version": "1.5.0",
       "_view_name": "HTMLView",
       "description": "",
       "description_tooltip": null,
       "layout": "IPY_MODEL_d5172f07d7004446a2464df975991e32",
       "placeholder": "​",
       "style": "IPY_MODEL_b21d2a8495fa45b7a7c606e8acb220d5",
       "value": "vocab.txt: 100%"
      }
     },
     "b7192d5bc6cc49a09318a9489ca9f6ed": {
      "model_module": "@jupyter-widgets/base",
      "model_module_version": "1.2.0",
      "model_name": "LayoutModel",
      "state": {
       "_model_module": "@jupyter-widgets/base",
       "_model_module_version": "1.2.0",
       "_model_name": "LayoutModel",
       "_view_count": null,
       "_view_module": "@jupyter-widgets/base",
       "_view_module_version": "1.2.0",
       "_view_name": "LayoutView",
       "align_content": null,
       "align_items": null,
       "align_self": null,
       "border": null,
       "bottom": null,
       "display": null,
       "flex": null,
       "flex_flow": null,
       "grid_area": null,
       "grid_auto_columns": null,
       "grid_auto_flow": null,
       "grid_auto_rows": null,
       "grid_column": null,
       "grid_gap": null,
       "grid_row": null,
       "grid_template_areas": null,
       "grid_template_columns": null,
       "grid_template_rows": null,
       "height": null,
       "justify_content": null,
       "justify_items": null,
       "left": null,
       "margin": null,
       "max_height": null,
       "max_width": null,
       "min_height": null,
       "min_width": null,
       "object_fit": null,
       "object_position": null,
       "order": null,
       "overflow": null,
       "overflow_x": null,
       "overflow_y": null,
       "padding": null,
       "right": null,
       "top": null,
       "visibility": null,
       "width": null
      }
     },
     "bafe7d80dadc4c0faa5c56f4f5ba95aa": {
      "model_module": "@jupyter-widgets/base",
      "model_module_version": "1.2.0",
      "model_name": "LayoutModel",
      "state": {
       "_model_module": "@jupyter-widgets/base",
       "_model_module_version": "1.2.0",
       "_model_name": "LayoutModel",
       "_view_count": null,
       "_view_module": "@jupyter-widgets/base",
       "_view_module_version": "1.2.0",
       "_view_name": "LayoutView",
       "align_content": null,
       "align_items": null,
       "align_self": null,
       "border": null,
       "bottom": null,
       "display": null,
       "flex": null,
       "flex_flow": null,
       "grid_area": null,
       "grid_auto_columns": null,
       "grid_auto_flow": null,
       "grid_auto_rows": null,
       "grid_column": null,
       "grid_gap": null,
       "grid_row": null,
       "grid_template_areas": null,
       "grid_template_columns": null,
       "grid_template_rows": null,
       "height": null,
       "justify_content": null,
       "justify_items": null,
       "left": null,
       "margin": null,
       "max_height": null,
       "max_width": null,
       "min_height": null,
       "min_width": null,
       "object_fit": null,
       "object_position": null,
       "order": null,
       "overflow": null,
       "overflow_x": null,
       "overflow_y": null,
       "padding": null,
       "right": null,
       "top": null,
       "visibility": null,
       "width": null
      }
     },
     "c11fe69785b34d8bb5ac6312e3dab51f": {
      "model_module": "@jupyter-widgets/controls",
      "model_module_version": "1.5.0",
      "model_name": "DescriptionStyleModel",
      "state": {
       "_model_module": "@jupyter-widgets/controls",
       "_model_module_version": "1.5.0",
       "_model_name": "DescriptionStyleModel",
       "_view_count": null,
       "_view_module": "@jupyter-widgets/base",
       "_view_module_version": "1.2.0",
       "_view_name": "StyleView",
       "description_width": ""
      }
     },
     "ccc0e01bfdb7438597a8cd7f1ab7d181": {
      "model_module": "@jupyter-widgets/controls",
      "model_module_version": "1.5.0",
      "model_name": "HBoxModel",
      "state": {
       "_dom_classes": [],
       "_model_module": "@jupyter-widgets/controls",
       "_model_module_version": "1.5.0",
       "_model_name": "HBoxModel",
       "_view_count": null,
       "_view_module": "@jupyter-widgets/controls",
       "_view_module_version": "1.5.0",
       "_view_name": "HBoxView",
       "box_style": "",
       "children": [
        "IPY_MODEL_b52bae562b1a4023a3e54bbc4e99af25",
        "IPY_MODEL_9e3e07c9fc1d4581a35a07dcc36de411",
        "IPY_MODEL_0b24f4edfbdd429c8ce8f46f17b440cb"
       ],
       "layout": "IPY_MODEL_2c57b8d9ce734a24b8eb11d13b7ca0af"
      }
     },
     "cee7366c86c74e36ae7826df884defc9": {
      "model_module": "@jupyter-widgets/base",
      "model_module_version": "1.2.0",
      "model_name": "LayoutModel",
      "state": {
       "_model_module": "@jupyter-widgets/base",
       "_model_module_version": "1.2.0",
       "_model_name": "LayoutModel",
       "_view_count": null,
       "_view_module": "@jupyter-widgets/base",
       "_view_module_version": "1.2.0",
       "_view_name": "LayoutView",
       "align_content": null,
       "align_items": null,
       "align_self": null,
       "border": null,
       "bottom": null,
       "display": null,
       "flex": null,
       "flex_flow": null,
       "grid_area": null,
       "grid_auto_columns": null,
       "grid_auto_flow": null,
       "grid_auto_rows": null,
       "grid_column": null,
       "grid_gap": null,
       "grid_row": null,
       "grid_template_areas": null,
       "grid_template_columns": null,
       "grid_template_rows": null,
       "height": null,
       "justify_content": null,
       "justify_items": null,
       "left": null,
       "margin": null,
       "max_height": null,
       "max_width": null,
       "min_height": null,
       "min_width": null,
       "object_fit": null,
       "object_position": null,
       "order": null,
       "overflow": null,
       "overflow_x": null,
       "overflow_y": null,
       "padding": null,
       "right": null,
       "top": null,
       "visibility": null,
       "width": null
      }
     },
     "d5172f07d7004446a2464df975991e32": {
      "model_module": "@jupyter-widgets/base",
      "model_module_version": "1.2.0",
      "model_name": "LayoutModel",
      "state": {
       "_model_module": "@jupyter-widgets/base",
       "_model_module_version": "1.2.0",
       "_model_name": "LayoutModel",
       "_view_count": null,
       "_view_module": "@jupyter-widgets/base",
       "_view_module_version": "1.2.0",
       "_view_name": "LayoutView",
       "align_content": null,
       "align_items": null,
       "align_self": null,
       "border": null,
       "bottom": null,
       "display": null,
       "flex": null,
       "flex_flow": null,
       "grid_area": null,
       "grid_auto_columns": null,
       "grid_auto_flow": null,
       "grid_auto_rows": null,
       "grid_column": null,
       "grid_gap": null,
       "grid_row": null,
       "grid_template_areas": null,
       "grid_template_columns": null,
       "grid_template_rows": null,
       "height": null,
       "justify_content": null,
       "justify_items": null,
       "left": null,
       "margin": null,
       "max_height": null,
       "max_width": null,
       "min_height": null,
       "min_width": null,
       "object_fit": null,
       "object_position": null,
       "order": null,
       "overflow": null,
       "overflow_x": null,
       "overflow_y": null,
       "padding": null,
       "right": null,
       "top": null,
       "visibility": null,
       "width": null
      }
     },
     "d95087780e2a425482ef42b1c5799ee1": {
      "model_module": "@jupyter-widgets/controls",
      "model_module_version": "1.5.0",
      "model_name": "DescriptionStyleModel",
      "state": {
       "_model_module": "@jupyter-widgets/controls",
       "_model_module_version": "1.5.0",
       "_model_name": "DescriptionStyleModel",
       "_view_count": null,
       "_view_module": "@jupyter-widgets/base",
       "_view_module_version": "1.2.0",
       "_view_name": "StyleView",
       "description_width": ""
      }
     },
     "def7163303b545b69cc1dc0586ba3bf5": {
      "model_module": "@jupyter-widgets/controls",
      "model_module_version": "1.5.0",
      "model_name": "HTMLModel",
      "state": {
       "_dom_classes": [],
       "_model_module": "@jupyter-widgets/controls",
       "_model_module_version": "1.5.0",
       "_model_name": "HTMLModel",
       "_view_count": null,
       "_view_module": "@jupyter-widgets/controls",
       "_view_module_version": "1.5.0",
       "_view_name": "HTMLView",
       "description": "",
       "description_tooltip": null,
       "layout": "IPY_MODEL_2f6f728646e84113be31bb3970f4510d",
       "placeholder": "​",
       "style": "IPY_MODEL_8654748cc5a74abea4429904be0571be",
       "value": " 1.34G/1.34G [00:04&lt;00:00, 316MB/s]"
      }
     },
     "df64dd15abbb416b9e6ddfa388b703b9": {
      "model_module": "@jupyter-widgets/controls",
      "model_module_version": "1.5.0",
      "model_name": "FloatProgressModel",
      "state": {
       "_dom_classes": [],
       "_model_module": "@jupyter-widgets/controls",
       "_model_module_version": "1.5.0",
       "_model_name": "FloatProgressModel",
       "_view_count": null,
       "_view_module": "@jupyter-widgets/controls",
       "_view_module_version": "1.5.0",
       "_view_name": "ProgressView",
       "bar_style": "success",
       "description": "",
       "description_tooltip": null,
       "layout": "IPY_MODEL_cee7366c86c74e36ae7826df884defc9",
       "max": 49,
       "min": 0,
       "orientation": "horizontal",
       "style": "IPY_MODEL_3db858a525eb49fbb499dc5bbd09826b",
       "value": 49
      }
     },
     "e02d6357ceaf49108f93fb1259500e34": {
      "model_module": "@jupyter-widgets/controls",
      "model_module_version": "1.5.0",
      "model_name": "ProgressStyleModel",
      "state": {
       "_model_module": "@jupyter-widgets/controls",
       "_model_module_version": "1.5.0",
       "_model_name": "ProgressStyleModel",
       "_view_count": null,
       "_view_module": "@jupyter-widgets/base",
       "_view_module_version": "1.2.0",
       "_view_name": "StyleView",
       "bar_color": null,
       "description_width": ""
      }
     },
     "e1773869b98b44138509cbba28c2ce80": {
      "model_module": "@jupyter-widgets/base",
      "model_module_version": "1.2.0",
      "model_name": "LayoutModel",
      "state": {
       "_model_module": "@jupyter-widgets/base",
       "_model_module_version": "1.2.0",
       "_model_name": "LayoutModel",
       "_view_count": null,
       "_view_module": "@jupyter-widgets/base",
       "_view_module_version": "1.2.0",
       "_view_name": "LayoutView",
       "align_content": null,
       "align_items": null,
       "align_self": null,
       "border": null,
       "bottom": null,
       "display": null,
       "flex": null,
       "flex_flow": null,
       "grid_area": null,
       "grid_auto_columns": null,
       "grid_auto_flow": null,
       "grid_auto_rows": null,
       "grid_column": null,
       "grid_gap": null,
       "grid_row": null,
       "grid_template_areas": null,
       "grid_template_columns": null,
       "grid_template_rows": null,
       "height": null,
       "justify_content": null,
       "justify_items": null,
       "left": null,
       "margin": null,
       "max_height": null,
       "max_width": null,
       "min_height": null,
       "min_width": null,
       "object_fit": null,
       "object_position": null,
       "order": null,
       "overflow": null,
       "overflow_x": null,
       "overflow_y": null,
       "padding": null,
       "right": null,
       "top": null,
       "visibility": null,
       "width": null
      }
     },
     "e66dc96052fe41148a87833160fa5693": {
      "model_module": "@jupyter-widgets/controls",
      "model_module_version": "1.5.0",
      "model_name": "HBoxModel",
      "state": {
       "_dom_classes": [],
       "_model_module": "@jupyter-widgets/controls",
       "_model_module_version": "1.5.0",
       "_model_name": "HBoxModel",
       "_view_count": null,
       "_view_module": "@jupyter-widgets/controls",
       "_view_module_version": "1.5.0",
       "_view_name": "HBoxView",
       "box_style": "",
       "children": [
        "IPY_MODEL_966a1f564254470491c824c7c7dc4bcc",
        "IPY_MODEL_87a7eb9f7f424d7886b0188f96dab202",
        "IPY_MODEL_1b4e5899218f45f9969d2e769316d39a"
       ],
       "layout": "IPY_MODEL_94349d957d7f4558b45f60a31673e809"
      }
     },
     "eac40976e1ca45448c5be2c8b846a055": {
      "model_module": "@jupyter-widgets/controls",
      "model_module_version": "1.5.0",
      "model_name": "HBoxModel",
      "state": {
       "_dom_classes": [],
       "_model_module": "@jupyter-widgets/controls",
       "_model_module_version": "1.5.0",
       "_model_name": "HBoxModel",
       "_view_count": null,
       "_view_module": "@jupyter-widgets/controls",
       "_view_module_version": "1.5.0",
       "_view_name": "HBoxView",
       "box_style": "",
       "children": [
        "IPY_MODEL_2eea588eca424569bf56a8079dec425c",
        "IPY_MODEL_df64dd15abbb416b9e6ddfa388b703b9",
        "IPY_MODEL_f8f5798e2d8b4554b97dda05702ef038"
       ],
       "layout": "IPY_MODEL_0e0d8d99855d4cac93511da5e60c108e"
      }
     },
     "ebbb7a3f6a2748fdaecfb4ca27418885": {
      "model_module": "@jupyter-widgets/controls",
      "model_module_version": "1.5.0",
      "model_name": "HBoxModel",
      "state": {
       "_dom_classes": [],
       "_model_module": "@jupyter-widgets/controls",
       "_model_module_version": "1.5.0",
       "_model_name": "HBoxModel",
       "_view_count": null,
       "_view_module": "@jupyter-widgets/controls",
       "_view_module_version": "1.5.0",
       "_view_name": "HBoxView",
       "box_style": "",
       "children": [
        "IPY_MODEL_efc2f6a03abc43268010fb3d10e43825",
        "IPY_MODEL_a2b2239899ae4fa4b82211952e0863bf",
        "IPY_MODEL_def7163303b545b69cc1dc0586ba3bf5"
       ],
       "layout": "IPY_MODEL_0eb1c5e605a24711a261dbd4e6e8cd2d"
      }
     },
     "ebf2a30cc7634416a6a897930b8b5d18": {
      "model_module": "@jupyter-widgets/controls",
      "model_module_version": "1.5.0",
      "model_name": "DescriptionStyleModel",
      "state": {
       "_model_module": "@jupyter-widgets/controls",
       "_model_module_version": "1.5.0",
       "_model_name": "DescriptionStyleModel",
       "_view_count": null,
       "_view_module": "@jupyter-widgets/base",
       "_view_module_version": "1.2.0",
       "_view_name": "StyleView",
       "description_width": ""
      }
     },
     "ef604454195b401ca15724632f55d071": {
      "model_module": "@jupyter-widgets/controls",
      "model_module_version": "1.5.0",
      "model_name": "DescriptionStyleModel",
      "state": {
       "_model_module": "@jupyter-widgets/controls",
       "_model_module_version": "1.5.0",
       "_model_name": "DescriptionStyleModel",
       "_view_count": null,
       "_view_module": "@jupyter-widgets/base",
       "_view_module_version": "1.2.0",
       "_view_name": "StyleView",
       "description_width": ""
      }
     },
     "efc2f6a03abc43268010fb3d10e43825": {
      "model_module": "@jupyter-widgets/controls",
      "model_module_version": "1.5.0",
      "model_name": "HTMLModel",
      "state": {
       "_dom_classes": [],
       "_model_module": "@jupyter-widgets/controls",
       "_model_module_version": "1.5.0",
       "_model_name": "HTMLModel",
       "_view_count": null,
       "_view_module": "@jupyter-widgets/controls",
       "_view_module_version": "1.5.0",
       "_view_name": "HTMLView",
       "description": "",
       "description_tooltip": null,
       "layout": "IPY_MODEL_b7192d5bc6cc49a09318a9489ca9f6ed",
       "placeholder": "​",
       "style": "IPY_MODEL_c11fe69785b34d8bb5ac6312e3dab51f",
       "value": "model.safetensors: 100%"
      }
     },
     "f03b27391c5e4d438af85e1f9d887d30": {
      "model_module": "@jupyter-widgets/controls",
      "model_module_version": "1.5.0",
      "model_name": "HTMLModel",
      "state": {
       "_dom_classes": [],
       "_model_module": "@jupyter-widgets/controls",
       "_model_module_version": "1.5.0",
       "_model_name": "HTMLModel",
       "_view_count": null,
       "_view_module": "@jupyter-widgets/controls",
       "_view_module_version": "1.5.0",
       "_view_name": "HTMLView",
       "description": "",
       "description_tooltip": null,
       "layout": "IPY_MODEL_6b3b6d9fe03c4b79aa34caeb5df4bd44",
       "placeholder": "​",
       "style": "IPY_MODEL_f460bfe8d5a14b978591618251afc6b7",
       "value": "tokenizer.json: 100%"
      }
     },
     "f460bfe8d5a14b978591618251afc6b7": {
      "model_module": "@jupyter-widgets/controls",
      "model_module_version": "1.5.0",
      "model_name": "DescriptionStyleModel",
      "state": {
       "_model_module": "@jupyter-widgets/controls",
       "_model_module_version": "1.5.0",
       "_model_name": "DescriptionStyleModel",
       "_view_count": null,
       "_view_module": "@jupyter-widgets/base",
       "_view_module_version": "1.2.0",
       "_view_name": "StyleView",
       "description_width": ""
      }
     },
     "f8f5798e2d8b4554b97dda05702ef038": {
      "model_module": "@jupyter-widgets/controls",
      "model_module_version": "1.5.0",
      "model_name": "HTMLModel",
      "state": {
       "_dom_classes": [],
       "_model_module": "@jupyter-widgets/controls",
       "_model_module_version": "1.5.0",
       "_model_name": "HTMLModel",
       "_view_count": null,
       "_view_module": "@jupyter-widgets/controls",
       "_view_module_version": "1.5.0",
       "_view_name": "HTMLView",
       "description": "",
       "description_tooltip": null,
       "layout": "IPY_MODEL_7a00348b47b746d3bb2c4eab86da5b0b",
       "placeholder": "​",
       "style": "IPY_MODEL_ebf2a30cc7634416a6a897930b8b5d18",
       "value": " 49.0/49.0 [00:00&lt;00:00, 4.27kB/s]"
      }
     }
    },
    "version_major": 2,
    "version_minor": 0
   }
  }
 },
 "nbformat": 4,
 "nbformat_minor": 5
}
